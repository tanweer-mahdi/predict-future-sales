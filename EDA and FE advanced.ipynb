{
 "cells": [
  {
   "cell_type": "code",
   "execution_count": 1,
   "metadata": {},
   "outputs": [],
   "source": [
    "import pandas as pd\n",
    "import numpy as np\n",
    "import matplotlib.pyplot as plt\n",
    "import seaborn as sns\n",
    "import datetime as tp\n",
    "import time\n",
    "import tqdm\n",
    "from calendar import monthrange\n",
    "import calendar\n",
    "from xgboost import XGBRegressor\n",
    "from xgboost import plot_importance\n",
    "import sklearn\n",
    "from itertools import product\n",
    "#from tqdm import tqdm_notebook as tqdm"
   ]
  },
  {
   "cell_type": "code",
   "execution_count": 2,
   "metadata": {},
   "outputs": [
    {
     "name": "stdout",
     "output_type": "stream",
     "text": [
      "Size of dataset before outliers: (2935849, 6)\n",
      "Size of dataset after removing outliers: (2935845, 6)\n",
      "<class 'pandas.core.frame.DataFrame'>\n",
      "Int64Index: 10913804 entries, 0 to 10913803\n",
      "Data columns (total 4 columns):\n",
      " #   Column          Dtype  \n",
      "---  ------          -----  \n",
      " 0   date_block_num  int8   \n",
      " 1   shop_id         int8   \n",
      " 2   item_id         int16  \n",
      " 3   item_cnt_month  float16\n",
      "dtypes: float16(1), int16(1), int8(2)\n",
      "memory usage: 145.7 MB\n"
     ]
    }
   ],
   "source": [
    "sales_train = pd.read_csv('sales_train.csv')\n",
    "print('Size of dataset before outliers: {}'.format(sales_train.shape))\n",
    "sales_train = sales_train[sales_train['item_price']<100000]\n",
    "sales_train = sales_train[sales_train['item_cnt_day']<1000]\n",
    "sales_train = sales_train[sales_train['item_price']>0]\n",
    "print('Size of dataset after removing outliers: {}'.format(sales_train.shape))\n",
    "ts = time.time()\n",
    "matrix = []\n",
    "cols = ['date_block_num','shop_id','item_id']\n",
    "for i in range(34):\n",
    "    sales = sales_train[sales_train.date_block_num==i]\n",
    "    matrix.append(np.array(list(product([i], sales.shop_id.unique(), sales.item_id.unique())), dtype='int16'))\n",
    "    \n",
    "matrix = pd.DataFrame(np.vstack(matrix), columns=cols)\n",
    "matrix['date_block_num'] = matrix['date_block_num'].astype(np.int8)\n",
    "matrix['shop_id'] = matrix['shop_id'].astype(np.int8)\n",
    "matrix['item_id'] = matrix['item_id'].astype(np.int16)\n",
    "matrix.sort_values(cols,inplace=True)\n",
    "time.time() - ts\n",
    "exp = sales_train.groupby(['date_block_num','item_id','shop_id'])['item_cnt_day'].sum()\n",
    "exp = pd.DataFrame(exp).reset_index()\n",
    "exp.rename(columns={'item_cnt_day':'item_cnt_month'}, inplace = True)\n",
    "#exp.sort_values(by=['date_block_num','item_id','shop_id'], inplace = True)\n",
    "matrix = pd.merge(matrix, exp, on=cols, how='left')\n",
    "matrix['item_cnt_month'] = (matrix['item_cnt_month']\n",
    "                                .fillna(0)#.astype(np.float16))\n",
    "                                .clip(0,20) # NB clip target here\n",
    "                                .astype(np.float16))\n",
    "train = matrix\n",
    "lags = [1,2,3,6]\n",
    "train.info()"
   ]
  },
  {
   "cell_type": "code",
   "execution_count": 3,
   "metadata": {},
   "outputs": [],
   "source": [
    "#train = pd.read_csv('train.csv')\n",
    "#train = train.drop('Unnamed: 0', axis = 1)\n",
    "#train.sort_values(by=['date_block_num','item_id','shop_id'], inplace = True)\n",
    "#train.info()\n",
    "#train.item_cnt_month = train.item_cnt_month.clip(0,20)\n",
    "#lags = [1,2,3,6]"
   ]
  },
  {
   "cell_type": "code",
   "execution_count": 4,
   "metadata": {},
   "outputs": [],
   "source": [
    "# prepare the test dataset to merge with the training dataset\n",
    "test = pd.read_csv('test.csv')\n",
    "itemcat = pd.read_csv('items.csv')\n",
    "#itemcat.head()\n",
    "test = test.drop('ID',axis=1)\n",
    "test['date_block_num'] = 34\n",
    "test['item_cnt_month'] = 0\n",
    "test.sort_values(by=['shop_id','item_id'], inplace = True)\n",
    "itemcat.head()\n",
    "train = pd.merge(train,itemcat[['item_id','item_category_id']], on = ['item_id'], how = 'left')\n",
    "train.rename(columns={'item_category_id':'item_cat'}, inplace= True)\n",
    "test = pd.merge(test,itemcat[['item_id','item_category_id']], on = ['item_id'], how = 'left')\n",
    "test.rename(columns={'item_category_id':'item_cat'}, inplace= True)"
   ]
  },
  {
   "cell_type": "code",
   "execution_count": 5,
   "metadata": {},
   "outputs": [
    {
     "name": "stdout",
     "output_type": "stream",
     "text": [
      "<class 'pandas.core.frame.DataFrame'>\n",
      "Int64Index: 214200 entries, 0 to 214199\n",
      "Data columns (total 5 columns):\n",
      " #   Column          Non-Null Count   Dtype\n",
      "---  ------          --------------   -----\n",
      " 0   shop_id         214200 non-null  int64\n",
      " 1   item_id         214200 non-null  int64\n",
      " 2   date_block_num  214200 non-null  int64\n",
      " 3   item_cnt_month  214200 non-null  int64\n",
      " 4   item_cat        214200 non-null  int64\n",
      "dtypes: int64(5)\n",
      "memory usage: 9.8 MB\n",
      "<class 'pandas.core.frame.DataFrame'>\n",
      "Int64Index: 10913804 entries, 0 to 10913803\n",
      "Data columns (total 5 columns):\n",
      " #   Column          Dtype  \n",
      "---  ------          -----  \n",
      " 0   date_block_num  int8   \n",
      " 1   shop_id         int8   \n",
      " 2   item_id         int16  \n",
      " 3   item_cnt_month  float16\n",
      " 4   item_cat        int64  \n",
      "dtypes: float16(1), int16(1), int64(1), int8(2)\n",
      "memory usage: 229.0 MB\n"
     ]
    }
   ],
   "source": [
    "test.info()\n",
    "train.info()"
   ]
  },
  {
   "cell_type": "code",
   "execution_count": 6,
   "metadata": {},
   "outputs": [
    {
     "name": "stdout",
     "output_type": "stream",
     "text": [
      "<class 'pandas.core.frame.DataFrame'>\n",
      "RangeIndex: 11128004 entries, 0 to 11128003\n",
      "Data columns (total 5 columns):\n",
      " #   Column          Dtype  \n",
      "---  ------          -----  \n",
      " 0   date_block_num  int64  \n",
      " 1   shop_id         int64  \n",
      " 2   item_id         int64  \n",
      " 3   item_cnt_month  float64\n",
      " 4   item_cat        int64  \n",
      "dtypes: float64(1), int64(4)\n",
      "memory usage: 424.5 MB\n"
     ]
    }
   ],
   "source": [
    "#test = test.drop('ID',axis=1)\n",
    "#test.head()\n",
    "matrix = pd.concat([train,test], keys = ['shop_id','item_id','date_block_num'], ignore_index = True, sort= False)\n",
    "matrix.info()"
   ]
  },
  {
   "cell_type": "code",
   "execution_count": 7,
   "metadata": {},
   "outputs": [
    {
     "name": "stdout",
     "output_type": "stream",
     "text": [
      "<class 'pandas.core.frame.DataFrame'>\n",
      "RangeIndex: 11128004 entries, 0 to 11128003\n",
      "Data columns (total 5 columns):\n",
      " #   Column          Dtype  \n",
      "---  ------          -----  \n",
      " 0   date_block_num  int16  \n",
      " 1   shop_id         int16  \n",
      " 2   item_id         int16  \n",
      " 3   item_cnt_month  float32\n",
      " 4   item_cat        int16  \n",
      "dtypes: float32(1), int16(4)\n",
      "memory usage: 127.4 MB\n"
     ]
    }
   ],
   "source": [
    "def downcast(df):\n",
    "    #finding floating point columns\n",
    "    float_cols = [c for c in df if df[c].dtype == 'float64']\n",
    "    #finding integer columns\n",
    "    int_cols = [c for c in df if df[c].dtype in ['int32','int64']]\n",
    "    df[float_cols] = df[float_cols].astype(np.float32)\n",
    "    df[int_cols] = df[int_cols].astype(np.int16)\n",
    "    return df\n",
    "\n",
    "train = downcast(matrix)\n",
    "del matrix\n",
    "train.info()"
   ]
  },
  {
   "cell_type": "code",
   "execution_count": 8,
   "metadata": {},
   "outputs": [
    {
     "data": {
      "text/plain": [
       "array([ 0,  1,  2,  3,  4,  5,  6,  7,  8,  9, 10, 11, 12, 13, 14, 15, 16,\n",
       "       17, 18, 19, 20, 21, 22, 23, 24, 25, 26, 27, 28, 29, 30, 31, 32, 33,\n",
       "       34], dtype=int16)"
      ]
     },
     "execution_count": 8,
     "metadata": {},
     "output_type": "execute_result"
    }
   ],
   "source": [
    "train.date_block_num.unique()"
   ]
  },
  {
   "cell_type": "code",
   "execution_count": 9,
   "metadata": {},
   "outputs": [
    {
     "name": "stderr",
     "output_type": "stream",
     "text": [
      "100%|████████████████████████████████████████████████████████████████████████████████████| 4/4 [00:27<00:00,  6.89s/it]\n"
     ]
    },
    {
     "data": {
      "text/plain": [
       "27.6822829246521"
      ]
     },
     "execution_count": 9,
     "metadata": {},
     "output_type": "execute_result"
    }
   ],
   "source": [
    "# Function for introducing lag features in the dataset. \"COL\" is the intended feature\n",
    "def lag_feature(df, lags, col):\n",
    "    tmp = df[['date_block_num','shop_id','item_id',col]] #made a temporary dataframe\n",
    "    for i in tqdm.tqdm(lags):\n",
    "        shifted = tmp.copy()\n",
    "        shifted.columns = ['date_block_num','shop_id','item_id', col+'_lag_'+str(i)]\n",
    "        shifted['date_block_num'] += i\n",
    "        df = pd.merge(df, shifted, on=['date_block_num','shop_id','item_id'], how='left')\n",
    "    return df\n",
    "\n",
    "ts = time.time()\n",
    "train = lag_feature(train, lags, 'item_cnt_month')\n",
    "time.time() - ts"
   ]
  },
  {
   "cell_type": "code",
   "execution_count": 10,
   "metadata": {},
   "outputs": [],
   "source": [
    "train.fillna(0, inplace = True)"
   ]
  },
  {
   "cell_type": "code",
   "execution_count": 11,
   "metadata": {},
   "outputs": [
    {
     "name": "stdout",
     "output_type": "stream",
     "text": [
      "<class 'pandas.core.frame.DataFrame'>\n",
      "Int64Index: 11128004 entries, 0 to 11128003\n",
      "Data columns (total 9 columns):\n",
      " #   Column                Dtype  \n",
      "---  ------                -----  \n",
      " 0   date_block_num        int16  \n",
      " 1   shop_id               int16  \n",
      " 2   item_id               int16  \n",
      " 3   item_cnt_month        float32\n",
      " 4   item_cat              int16  \n",
      " 5   item_cnt_month_lag_1  float32\n",
      " 6   item_cnt_month_lag_2  float32\n",
      " 7   item_cnt_month_lag_3  float32\n",
      " 8   item_cnt_month_lag_6  float32\n",
      "dtypes: float32(5), int16(4)\n",
      "memory usage: 382.0 MB\n"
     ]
    }
   ],
   "source": [
    "train.info()"
   ]
  },
  {
   "cell_type": "code",
   "execution_count": 12,
   "metadata": {},
   "outputs": [
    {
     "name": "stdout",
     "output_type": "stream",
     "text": [
      "Size of dataset before outliers: (2935849, 6)\n",
      "Size of dataset after removing outliers: (2935840, 6)\n"
     ]
    }
   ],
   "source": [
    "#item price information is missing. lets add it\n",
    "sales_train = pd.read_csv('sales_train.csv')\n",
    "print('Size of dataset before outliers: {}'.format(sales_train.shape))\n",
    "sales_train = sales_train[sales_train['item_price']<50000]\n",
    "sales_train = sales_train[sales_train['item_cnt_day']<600]\n",
    "sales_train = sales_train[sales_train['item_price']>0]\n",
    "print('Size of dataset after removing outliers: {}'.format(sales_train.shape))"
   ]
  },
  {
   "cell_type": "code",
   "execution_count": 13,
   "metadata": {},
   "outputs": [],
   "source": [
    "exp = sales_train.groupby(['shop_id','item_id','date_block_num'])['item_price'].max()"
   ]
  },
  {
   "cell_type": "code",
   "execution_count": 14,
   "metadata": {},
   "outputs": [
    {
     "data": {
      "text/html": [
       "<div>\n",
       "<style scoped>\n",
       "    .dataframe tbody tr th:only-of-type {\n",
       "        vertical-align: middle;\n",
       "    }\n",
       "\n",
       "    .dataframe tbody tr th {\n",
       "        vertical-align: top;\n",
       "    }\n",
       "\n",
       "    .dataframe thead th {\n",
       "        text-align: right;\n",
       "    }\n",
       "</style>\n",
       "<table border=\"1\" class=\"dataframe\">\n",
       "  <thead>\n",
       "    <tr style=\"text-align: right;\">\n",
       "      <th></th>\n",
       "      <th>shop_id</th>\n",
       "      <th>item_id</th>\n",
       "      <th>date_block_num</th>\n",
       "      <th>item_price</th>\n",
       "    </tr>\n",
       "  </thead>\n",
       "  <tbody>\n",
       "    <tr>\n",
       "      <th>0</th>\n",
       "      <td>0</td>\n",
       "      <td>30</td>\n",
       "      <td>1</td>\n",
       "      <td>265.0</td>\n",
       "    </tr>\n",
       "    <tr>\n",
       "      <th>1</th>\n",
       "      <td>0</td>\n",
       "      <td>31</td>\n",
       "      <td>1</td>\n",
       "      <td>434.0</td>\n",
       "    </tr>\n",
       "    <tr>\n",
       "      <th>2</th>\n",
       "      <td>0</td>\n",
       "      <td>32</td>\n",
       "      <td>0</td>\n",
       "      <td>221.0</td>\n",
       "    </tr>\n",
       "    <tr>\n",
       "      <th>3</th>\n",
       "      <td>0</td>\n",
       "      <td>32</td>\n",
       "      <td>1</td>\n",
       "      <td>221.0</td>\n",
       "    </tr>\n",
       "    <tr>\n",
       "      <th>4</th>\n",
       "      <td>0</td>\n",
       "      <td>33</td>\n",
       "      <td>0</td>\n",
       "      <td>347.0</td>\n",
       "    </tr>\n",
       "  </tbody>\n",
       "</table>\n",
       "</div>"
      ],
      "text/plain": [
       "   shop_id  item_id  date_block_num  item_price\n",
       "0        0       30               1       265.0\n",
       "1        0       31               1       434.0\n",
       "2        0       32               0       221.0\n",
       "3        0       32               1       221.0\n",
       "4        0       33               0       347.0"
      ]
     },
     "execution_count": 14,
     "metadata": {},
     "output_type": "execute_result"
    }
   ],
   "source": [
    "exp = pd.DataFrame(exp).reset_index()\n",
    "exp.head(5)"
   ]
  },
  {
   "cell_type": "code",
   "execution_count": 15,
   "metadata": {},
   "outputs": [
    {
     "name": "stdout",
     "output_type": "stream",
     "text": [
      "<class 'pandas.core.frame.DataFrame'>\n",
      "Int64Index: 1823321 entries, 0 to 1823320\n",
      "Data columns (total 10 columns):\n",
      " #   Column                Dtype  \n",
      "---  ------                -----  \n",
      " 0   date_block_num        int64  \n",
      " 1   item_id               int64  \n",
      " 2   shop_id               int64  \n",
      " 3   item_cnt_month        float64\n",
      " 4   item_cat              int64  \n",
      " 5   item_cnt_month_lag_1  float64\n",
      " 6   item_cnt_month_lag_2  float64\n",
      " 7   item_cnt_month_lag_3  float64\n",
      " 8   item_cnt_month_lag_6  float64\n",
      " 9   item_price            float64\n",
      "dtypes: float64(6), int64(4)\n",
      "memory usage: 153.0 MB\n"
     ]
    }
   ],
   "source": [
    "matrix = pd.merge(train,exp,on=['shop_id','item_id','date_block_num'],how = 'left')\n",
    "matrix.info()"
   ]
  },
  {
   "cell_type": "code",
   "execution_count": 16,
   "metadata": {},
   "outputs": [],
   "source": [
    "matrix.fillna(0,inplace=True)\n",
    "train = matrix"
   ]
  },
  {
   "cell_type": "code",
   "execution_count": 17,
   "metadata": {},
   "outputs": [],
   "source": [
    "del matrix\n",
    "del exp\n",
    "del test\n",
    "del itemcat"
   ]
  },
  {
   "cell_type": "code",
   "execution_count": 18,
   "metadata": {},
   "outputs": [],
   "source": [
    "# Price analysis. In this section we will dome some experiment on price analysis will see if there are ups and\n",
    "# downs in price"
   ]
  },
  {
   "cell_type": "code",
   "execution_count": 19,
   "metadata": {},
   "outputs": [
    {
     "data": {
      "text/plain": [
       "Index(['date_block_num', 'item_id', 'shop_id', 'item_cnt_month', 'item_cat',\n",
       "       'item_cnt_month_lag_1', 'item_cnt_month_lag_2', 'item_cnt_month_lag_3',\n",
       "       'item_cnt_month_lag_6', 'item_price'],\n",
       "      dtype='object')"
      ]
     },
     "execution_count": 19,
     "metadata": {},
     "output_type": "execute_result"
    }
   ],
   "source": [
    "train.columns"
   ]
  },
  {
   "cell_type": "code",
   "execution_count": 20,
   "metadata": {},
   "outputs": [],
   "source": [
    "# we don't have any information about 34th month price. We will have to use prior information. The information about\n",
    "# last time sell"
   ]
  },
  {
   "cell_type": "code",
   "execution_count": 21,
   "metadata": {},
   "outputs": [
    {
     "name": "stdout",
     "output_type": "stream",
     "text": [
      "<class 'pandas.core.frame.DataFrame'>\n",
      "Int64Index: 1823321 entries, 0 to 1823320\n",
      "Data columns (total 11 columns):\n",
      " #   Column                Dtype  \n",
      "---  ------                -----  \n",
      " 0   date_block_num        int64  \n",
      " 1   item_id               int64  \n",
      " 2   shop_id               int64  \n",
      " 3   item_cnt_month        float64\n",
      " 4   item_cat              int64  \n",
      " 5   item_cnt_month_lag_1  float64\n",
      " 6   item_cnt_month_lag_2  float64\n",
      " 7   item_cnt_month_lag_3  float64\n",
      " 8   item_cnt_month_lag_6  float64\n",
      " 9   item_price_x          float64\n",
      " 10  item_price_y          float64\n",
      "dtypes: float64(7), int64(4)\n",
      "memory usage: 166.9 MB\n"
     ]
    }
   ],
   "source": [
    "exp = sales_train.groupby(['shop_id','item_id','date_block_num'])['item_price'].max() #all shop-item price\n",
    "exp = pd.DataFrame(exp).reset_index()\n",
    "exp1 = sales_train.groupby(['shop_id','item_id'])['date_block_num'].max() # extracting the immediate last sales history\n",
    "exp1 = pd.DataFrame(exp1).reset_index()\n",
    "matrix = pd.merge(exp1,exp, on=['shop_id','item_id','date_block_num'], how = 'inner')\n",
    "matrix['date_block_num'] = 34\n",
    "temp = pd.merge(train,matrix,on=['shop_id','item_id','date_block_num'], how = 'left')\n",
    "temp.info()\n",
    "#matrix = train[train.date_block_num==34]\n",
    "#matrix = pd.merge(matrix,exp,on=['shop_id','item_id'])"
   ]
  },
  {
   "cell_type": "code",
   "execution_count": 22,
   "metadata": {},
   "outputs": [],
   "source": [
    "temp.fillna(0,inplace=True)\n",
    "temp['item_price'] = ''\n",
    "temp['item_price'] = temp['item_price_x'] + temp['item_price_y']\n",
    "temp = temp.drop(columns = ['item_price_x','item_price_y'], axis=1)"
   ]
  },
  {
   "cell_type": "code",
   "execution_count": 23,
   "metadata": {},
   "outputs": [],
   "source": [
    "train = temp[temp.item_price>0] # shop+item duo for which data available in training set\n",
    "remainder = temp[temp.item_price==0] # shop+item duo for which no data available in training set, different approach required"
   ]
  },
  {
   "cell_type": "code",
   "execution_count": 24,
   "metadata": {},
   "outputs": [],
   "source": [
    "del exp\n",
    "del temp\n",
    "del exp1\n",
    "del matrix"
   ]
  },
  {
   "cell_type": "code",
   "execution_count": 25,
   "metadata": {},
   "outputs": [],
   "source": [
    "# Now we shall do some investigation on item price over both shop and time"
   ]
  },
  {
   "cell_type": "code",
   "execution_count": 26,
   "metadata": {},
   "outputs": [
    {
     "data": {
      "text/html": [
       "<div>\n",
       "<style scoped>\n",
       "    .dataframe tbody tr th:only-of-type {\n",
       "        vertical-align: middle;\n",
       "    }\n",
       "\n",
       "    .dataframe tbody tr th {\n",
       "        vertical-align: top;\n",
       "    }\n",
       "\n",
       "    .dataframe thead th {\n",
       "        text-align: right;\n",
       "    }\n",
       "</style>\n",
       "<table border=\"1\" class=\"dataframe\">\n",
       "  <thead>\n",
       "    <tr style=\"text-align: right;\">\n",
       "      <th></th>\n",
       "      <th>shop_id</th>\n",
       "      <th>item_id</th>\n",
       "      <th>max</th>\n",
       "    </tr>\n",
       "  </thead>\n",
       "  <tbody>\n",
       "    <tr>\n",
       "      <th>0</th>\n",
       "      <td>0</td>\n",
       "      <td>30</td>\n",
       "      <td>265.0</td>\n",
       "    </tr>\n",
       "    <tr>\n",
       "      <th>1</th>\n",
       "      <td>0</td>\n",
       "      <td>31</td>\n",
       "      <td>434.0</td>\n",
       "    </tr>\n",
       "    <tr>\n",
       "      <th>2</th>\n",
       "      <td>0</td>\n",
       "      <td>32</td>\n",
       "      <td>221.0</td>\n",
       "    </tr>\n",
       "    <tr>\n",
       "      <th>3</th>\n",
       "      <td>0</td>\n",
       "      <td>33</td>\n",
       "      <td>347.0</td>\n",
       "    </tr>\n",
       "    <tr>\n",
       "      <th>4</th>\n",
       "      <td>0</td>\n",
       "      <td>35</td>\n",
       "      <td>247.0</td>\n",
       "    </tr>\n",
       "  </tbody>\n",
       "</table>\n",
       "</div>"
      ],
      "text/plain": [
       "   shop_id  item_id    max\n",
       "0        0       30  265.0\n",
       "1        0       31  434.0\n",
       "2        0       32  221.0\n",
       "3        0       33  347.0\n",
       "4        0       35  247.0"
      ]
     },
     "execution_count": 26,
     "metadata": {},
     "output_type": "execute_result"
    }
   ],
   "source": [
    "exp = sales_train.groupby(['shop_id','item_id'])['item_price'].max()\n",
    "exp = pd.DataFrame(exp).reset_index()\n",
    "exp.rename(columns={'item_price':'max'}, inplace = True)\n",
    "exp.head()"
   ]
  },
  {
   "cell_type": "code",
   "execution_count": 27,
   "metadata": {},
   "outputs": [
    {
     "data": {
      "text/html": [
       "<div>\n",
       "<style scoped>\n",
       "    .dataframe tbody tr th:only-of-type {\n",
       "        vertical-align: middle;\n",
       "    }\n",
       "\n",
       "    .dataframe tbody tr th {\n",
       "        vertical-align: top;\n",
       "    }\n",
       "\n",
       "    .dataframe thead th {\n",
       "        text-align: right;\n",
       "    }\n",
       "</style>\n",
       "<table border=\"1\" class=\"dataframe\">\n",
       "  <thead>\n",
       "    <tr style=\"text-align: right;\">\n",
       "      <th></th>\n",
       "      <th>shop_id</th>\n",
       "      <th>item_id</th>\n",
       "      <th>min</th>\n",
       "    </tr>\n",
       "  </thead>\n",
       "  <tbody>\n",
       "    <tr>\n",
       "      <th>0</th>\n",
       "      <td>0</td>\n",
       "      <td>30</td>\n",
       "      <td>265.0</td>\n",
       "    </tr>\n",
       "    <tr>\n",
       "      <th>1</th>\n",
       "      <td>0</td>\n",
       "      <td>31</td>\n",
       "      <td>434.0</td>\n",
       "    </tr>\n",
       "    <tr>\n",
       "      <th>2</th>\n",
       "      <td>0</td>\n",
       "      <td>32</td>\n",
       "      <td>221.0</td>\n",
       "    </tr>\n",
       "    <tr>\n",
       "      <th>3</th>\n",
       "      <td>0</td>\n",
       "      <td>33</td>\n",
       "      <td>347.0</td>\n",
       "    </tr>\n",
       "    <tr>\n",
       "      <th>4</th>\n",
       "      <td>0</td>\n",
       "      <td>35</td>\n",
       "      <td>247.0</td>\n",
       "    </tr>\n",
       "  </tbody>\n",
       "</table>\n",
       "</div>"
      ],
      "text/plain": [
       "   shop_id  item_id    min\n",
       "0        0       30  265.0\n",
       "1        0       31  434.0\n",
       "2        0       32  221.0\n",
       "3        0       33  347.0\n",
       "4        0       35  247.0"
      ]
     },
     "execution_count": 27,
     "metadata": {},
     "output_type": "execute_result"
    }
   ],
   "source": [
    "exp1 = sales_train.groupby(['shop_id','item_id'])['item_price'].min()\n",
    "exp1 = pd.DataFrame(exp1).reset_index()\n",
    "exp1.rename(columns={'item_price':'min'}, inplace = True)\n",
    "exp1.head()"
   ]
  },
  {
   "cell_type": "code",
   "execution_count": 28,
   "metadata": {},
   "outputs": [],
   "source": [
    "matrix = pd.merge(exp,exp1, on=['shop_id','item_id'],how = 'left')"
   ]
  },
  {
   "cell_type": "code",
   "execution_count": 29,
   "metadata": {},
   "outputs": [
    {
     "data": {
      "text/html": [
       "<div>\n",
       "<style scoped>\n",
       "    .dataframe tbody tr th:only-of-type {\n",
       "        vertical-align: middle;\n",
       "    }\n",
       "\n",
       "    .dataframe tbody tr th {\n",
       "        vertical-align: top;\n",
       "    }\n",
       "\n",
       "    .dataframe thead th {\n",
       "        text-align: right;\n",
       "    }\n",
       "</style>\n",
       "<table border=\"1\" class=\"dataframe\">\n",
       "  <thead>\n",
       "    <tr style=\"text-align: right;\">\n",
       "      <th></th>\n",
       "      <th>shop_id</th>\n",
       "      <th>item_id</th>\n",
       "      <th>max</th>\n",
       "      <th>min</th>\n",
       "    </tr>\n",
       "  </thead>\n",
       "  <tbody>\n",
       "    <tr>\n",
       "      <th>0</th>\n",
       "      <td>0</td>\n",
       "      <td>30</td>\n",
       "      <td>265.0</td>\n",
       "      <td>265.0</td>\n",
       "    </tr>\n",
       "    <tr>\n",
       "      <th>1</th>\n",
       "      <td>0</td>\n",
       "      <td>31</td>\n",
       "      <td>434.0</td>\n",
       "      <td>434.0</td>\n",
       "    </tr>\n",
       "    <tr>\n",
       "      <th>2</th>\n",
       "      <td>0</td>\n",
       "      <td>32</td>\n",
       "      <td>221.0</td>\n",
       "      <td>221.0</td>\n",
       "    </tr>\n",
       "    <tr>\n",
       "      <th>3</th>\n",
       "      <td>0</td>\n",
       "      <td>33</td>\n",
       "      <td>347.0</td>\n",
       "      <td>347.0</td>\n",
       "    </tr>\n",
       "    <tr>\n",
       "      <th>4</th>\n",
       "      <td>0</td>\n",
       "      <td>35</td>\n",
       "      <td>247.0</td>\n",
       "      <td>247.0</td>\n",
       "    </tr>\n",
       "  </tbody>\n",
       "</table>\n",
       "</div>"
      ],
      "text/plain": [
       "   shop_id  item_id    max    min\n",
       "0        0       30  265.0  265.0\n",
       "1        0       31  434.0  434.0\n",
       "2        0       32  221.0  221.0\n",
       "3        0       33  347.0  347.0\n",
       "4        0       35  247.0  247.0"
      ]
     },
     "execution_count": 29,
     "metadata": {},
     "output_type": "execute_result"
    }
   ],
   "source": [
    "matrix.head()"
   ]
  },
  {
   "cell_type": "code",
   "execution_count": 30,
   "metadata": {},
   "outputs": [],
   "source": [
    "matrix['change'] = np.abs(matrix['max'] -matrix['min'])"
   ]
  },
  {
   "cell_type": "code",
   "execution_count": 31,
   "metadata": {},
   "outputs": [
    {
     "data": {
      "text/html": [
       "<div>\n",
       "<style scoped>\n",
       "    .dataframe tbody tr th:only-of-type {\n",
       "        vertical-align: middle;\n",
       "    }\n",
       "\n",
       "    .dataframe tbody tr th {\n",
       "        vertical-align: top;\n",
       "    }\n",
       "\n",
       "    .dataframe thead th {\n",
       "        text-align: right;\n",
       "    }\n",
       "</style>\n",
       "<table border=\"1\" class=\"dataframe\">\n",
       "  <thead>\n",
       "    <tr style=\"text-align: right;\">\n",
       "      <th></th>\n",
       "      <th>shop_id</th>\n",
       "      <th>item_id</th>\n",
       "      <th>max</th>\n",
       "      <th>min</th>\n",
       "      <th>change</th>\n",
       "    </tr>\n",
       "  </thead>\n",
       "  <tbody>\n",
       "    <tr>\n",
       "      <th>0</th>\n",
       "      <td>0</td>\n",
       "      <td>30</td>\n",
       "      <td>265.0</td>\n",
       "      <td>265.0</td>\n",
       "      <td>0.0</td>\n",
       "    </tr>\n",
       "    <tr>\n",
       "      <th>1</th>\n",
       "      <td>0</td>\n",
       "      <td>31</td>\n",
       "      <td>434.0</td>\n",
       "      <td>434.0</td>\n",
       "      <td>0.0</td>\n",
       "    </tr>\n",
       "    <tr>\n",
       "      <th>2</th>\n",
       "      <td>0</td>\n",
       "      <td>32</td>\n",
       "      <td>221.0</td>\n",
       "      <td>221.0</td>\n",
       "      <td>0.0</td>\n",
       "    </tr>\n",
       "    <tr>\n",
       "      <th>3</th>\n",
       "      <td>0</td>\n",
       "      <td>33</td>\n",
       "      <td>347.0</td>\n",
       "      <td>347.0</td>\n",
       "      <td>0.0</td>\n",
       "    </tr>\n",
       "    <tr>\n",
       "      <th>4</th>\n",
       "      <td>0</td>\n",
       "      <td>35</td>\n",
       "      <td>247.0</td>\n",
       "      <td>247.0</td>\n",
       "      <td>0.0</td>\n",
       "    </tr>\n",
       "    <tr>\n",
       "      <th>...</th>\n",
       "      <td>...</td>\n",
       "      <td>...</td>\n",
       "      <td>...</td>\n",
       "      <td>...</td>\n",
       "      <td>...</td>\n",
       "    </tr>\n",
       "    <tr>\n",
       "      <th>424117</th>\n",
       "      <td>59</td>\n",
       "      <td>22154</td>\n",
       "      <td>999.0</td>\n",
       "      <td>999.0</td>\n",
       "      <td>0.0</td>\n",
       "    </tr>\n",
       "    <tr>\n",
       "      <th>424118</th>\n",
       "      <td>59</td>\n",
       "      <td>22155</td>\n",
       "      <td>149.0</td>\n",
       "      <td>149.0</td>\n",
       "      <td>0.0</td>\n",
       "    </tr>\n",
       "    <tr>\n",
       "      <th>424119</th>\n",
       "      <td>59</td>\n",
       "      <td>22162</td>\n",
       "      <td>399.0</td>\n",
       "      <td>349.0</td>\n",
       "      <td>50.0</td>\n",
       "    </tr>\n",
       "    <tr>\n",
       "      <th>424120</th>\n",
       "      <td>59</td>\n",
       "      <td>22164</td>\n",
       "      <td>749.0</td>\n",
       "      <td>699.0</td>\n",
       "      <td>50.0</td>\n",
       "    </tr>\n",
       "    <tr>\n",
       "      <th>424121</th>\n",
       "      <td>59</td>\n",
       "      <td>22167</td>\n",
       "      <td>299.0</td>\n",
       "      <td>299.0</td>\n",
       "      <td>0.0</td>\n",
       "    </tr>\n",
       "  </tbody>\n",
       "</table>\n",
       "<p>424122 rows × 5 columns</p>\n",
       "</div>"
      ],
      "text/plain": [
       "        shop_id  item_id    max    min  change\n",
       "0             0       30  265.0  265.0     0.0\n",
       "1             0       31  434.0  434.0     0.0\n",
       "2             0       32  221.0  221.0     0.0\n",
       "3             0       33  347.0  347.0     0.0\n",
       "4             0       35  247.0  247.0     0.0\n",
       "...         ...      ...    ...    ...     ...\n",
       "424117       59    22154  999.0  999.0     0.0\n",
       "424118       59    22155  149.0  149.0     0.0\n",
       "424119       59    22162  399.0  349.0    50.0\n",
       "424120       59    22164  749.0  699.0    50.0\n",
       "424121       59    22167  299.0  299.0     0.0\n",
       "\n",
       "[424122 rows x 5 columns]"
      ]
     },
     "execution_count": 31,
     "metadata": {},
     "output_type": "execute_result"
    }
   ],
   "source": [
    "matrix"
   ]
  },
  {
   "cell_type": "code",
   "execution_count": 32,
   "metadata": {},
   "outputs": [],
   "source": [
    "# This means there is a change of item price over TIME. Now we need to see if there is variation of item price\n",
    "# over the SHOPS. "
   ]
  },
  {
   "cell_type": "code",
   "execution_count": 33,
   "metadata": {},
   "outputs": [
    {
     "data": {
      "text/html": [
       "<div>\n",
       "<style scoped>\n",
       "    .dataframe tbody tr th:only-of-type {\n",
       "        vertical-align: middle;\n",
       "    }\n",
       "\n",
       "    .dataframe tbody tr th {\n",
       "        vertical-align: top;\n",
       "    }\n",
       "\n",
       "    .dataframe thead th {\n",
       "        text-align: right;\n",
       "    }\n",
       "</style>\n",
       "<table border=\"1\" class=\"dataframe\">\n",
       "  <thead>\n",
       "    <tr style=\"text-align: right;\">\n",
       "      <th></th>\n",
       "      <th>date</th>\n",
       "      <th>date_block_num</th>\n",
       "      <th>shop_id</th>\n",
       "      <th>item_id</th>\n",
       "      <th>item_price</th>\n",
       "      <th>item_cnt_day</th>\n",
       "    </tr>\n",
       "  </thead>\n",
       "  <tbody>\n",
       "    <tr>\n",
       "      <th>0</th>\n",
       "      <td>02.01.2013</td>\n",
       "      <td>0</td>\n",
       "      <td>59</td>\n",
       "      <td>22154</td>\n",
       "      <td>999.00</td>\n",
       "      <td>1.0</td>\n",
       "    </tr>\n",
       "    <tr>\n",
       "      <th>1</th>\n",
       "      <td>03.01.2013</td>\n",
       "      <td>0</td>\n",
       "      <td>25</td>\n",
       "      <td>2552</td>\n",
       "      <td>899.00</td>\n",
       "      <td>1.0</td>\n",
       "    </tr>\n",
       "    <tr>\n",
       "      <th>2</th>\n",
       "      <td>05.01.2013</td>\n",
       "      <td>0</td>\n",
       "      <td>25</td>\n",
       "      <td>2552</td>\n",
       "      <td>899.00</td>\n",
       "      <td>-1.0</td>\n",
       "    </tr>\n",
       "    <tr>\n",
       "      <th>3</th>\n",
       "      <td>06.01.2013</td>\n",
       "      <td>0</td>\n",
       "      <td>25</td>\n",
       "      <td>2554</td>\n",
       "      <td>1709.05</td>\n",
       "      <td>1.0</td>\n",
       "    </tr>\n",
       "    <tr>\n",
       "      <th>4</th>\n",
       "      <td>15.01.2013</td>\n",
       "      <td>0</td>\n",
       "      <td>25</td>\n",
       "      <td>2555</td>\n",
       "      <td>1099.00</td>\n",
       "      <td>1.0</td>\n",
       "    </tr>\n",
       "  </tbody>\n",
       "</table>\n",
       "</div>"
      ],
      "text/plain": [
       "         date  date_block_num  shop_id  item_id  item_price  item_cnt_day\n",
       "0  02.01.2013               0       59    22154      999.00           1.0\n",
       "1  03.01.2013               0       25     2552      899.00           1.0\n",
       "2  05.01.2013               0       25     2552      899.00          -1.0\n",
       "3  06.01.2013               0       25     2554     1709.05           1.0\n",
       "4  15.01.2013               0       25     2555     1099.00           1.0"
      ]
     },
     "execution_count": 33,
     "metadata": {},
     "output_type": "execute_result"
    }
   ],
   "source": [
    "sales_train.head()"
   ]
  },
  {
   "cell_type": "code",
   "execution_count": 34,
   "metadata": {},
   "outputs": [],
   "source": [
    "shop_matrix = sales_train.pivot_table(index=['date','item_id'], columns = 'shop_id', values = 'item_price',aggfunc= np.mean, fill_value=0)"
   ]
  },
  {
   "cell_type": "code",
   "execution_count": 35,
   "metadata": {},
   "outputs": [],
   "source": [
    "shop_matrix = shop_matrix.droplevel('date',axis=0)"
   ]
  },
  {
   "cell_type": "code",
   "execution_count": 36,
   "metadata": {},
   "outputs": [],
   "source": [
    "shop_matrix_2d = shop_matrix.values"
   ]
  },
  {
   "cell_type": "code",
   "execution_count": 37,
   "metadata": {},
   "outputs": [],
   "source": [
    "for i in range (0,shop_matrix_2d.shape[0]):\n",
    "    maxs = np.max(shop_matrix_2d[i])\n",
    "    shop_matrix_2d[i] = shop_matrix_2d[i]/maxs"
   ]
  },
  {
   "cell_type": "code",
   "execution_count": 38,
   "metadata": {},
   "outputs": [
    {
     "data": {
      "text/plain": [
       "(1541608, 60)"
      ]
     },
     "execution_count": 38,
     "metadata": {},
     "output_type": "execute_result"
    }
   ],
   "source": [
    "shop_matrix_2d.shape"
   ]
  },
  {
   "cell_type": "code",
   "execution_count": 39,
   "metadata": {},
   "outputs": [],
   "source": [
    "shop_index = np.zeros((60,1)) # shop_index determines the usual practice of selling a product in a shopt\n",
    "for i in range(0,shop_matrix_2d.shape[1]):\n",
    "    temp = shop_matrix_2d[:][i]\n",
    "    shop_index[i] = np.mean(temp[temp>0])\n",
    "    #shop_index[i] = np.mean(np.unique(shop_matrix_2d[:][i]))"
   ]
  },
  {
   "cell_type": "code",
   "execution_count": 40,
   "metadata": {},
   "outputs": [],
   "source": [
    "train['shop_index'] = ''"
   ]
  },
  {
   "cell_type": "code",
   "execution_count": 41,
   "metadata": {},
   "outputs": [],
   "source": [
    "for i in range(0,60):\n",
    "    train.loc[train.shop_id==i,'shop_index'] = shop_index[i]"
   ]
  },
  {
   "cell_type": "code",
   "execution_count": 42,
   "metadata": {},
   "outputs": [
    {
     "data": {
      "text/plain": [
       "0.7208835341365462"
      ]
     },
     "execution_count": 42,
     "metadata": {},
     "output_type": "execute_result"
    }
   ],
   "source": [
    "np.min(train.shop_index)"
   ]
  },
  {
   "cell_type": "code",
   "execution_count": 43,
   "metadata": {},
   "outputs": [],
   "source": [
    "def nday_month(x):\n",
    "    if x<12:\n",
    "        year = 2013\n",
    "    if x>=12 and x<22:\n",
    "        year = 2014\n",
    "    if x>=22:\n",
    "        year = 2015\n",
    "    month = np.mod(x,12) + 1\n",
    "    temp = monthrange(year,month)[1]\n",
    "    return temp"
   ]
  },
  {
   "cell_type": "code",
   "execution_count": 44,
   "metadata": {},
   "outputs": [
    {
     "data": {
      "text/plain": [
       "30"
      ]
     },
     "execution_count": 44,
     "metadata": {},
     "output_type": "execute_result"
    }
   ],
   "source": [
    "nday_month(32)"
   ]
  },
  {
   "cell_type": "code",
   "execution_count": 45,
   "metadata": {},
   "outputs": [
    {
     "data": {
      "text/html": [
       "<div>\n",
       "<style scoped>\n",
       "    .dataframe tbody tr th:only-of-type {\n",
       "        vertical-align: middle;\n",
       "    }\n",
       "\n",
       "    .dataframe tbody tr th {\n",
       "        vertical-align: top;\n",
       "    }\n",
       "\n",
       "    .dataframe thead th {\n",
       "        text-align: right;\n",
       "    }\n",
       "</style>\n",
       "<table border=\"1\" class=\"dataframe\">\n",
       "  <thead>\n",
       "    <tr style=\"text-align: right;\">\n",
       "      <th></th>\n",
       "      <th>date_block_num</th>\n",
       "      <th>item_id</th>\n",
       "      <th>shop_id</th>\n",
       "      <th>item_cnt_month</th>\n",
       "      <th>item_cat</th>\n",
       "      <th>item_cnt_month_lag_1</th>\n",
       "      <th>item_cnt_month_lag_2</th>\n",
       "      <th>item_cnt_month_lag_3</th>\n",
       "      <th>item_cnt_month_lag_6</th>\n",
       "      <th>item_price</th>\n",
       "      <th>shop_index</th>\n",
       "    </tr>\n",
       "  </thead>\n",
       "  <tbody>\n",
       "    <tr>\n",
       "      <th>0</th>\n",
       "      <td>0</td>\n",
       "      <td>19</td>\n",
       "      <td>25</td>\n",
       "      <td>1.0</td>\n",
       "      <td>40</td>\n",
       "      <td>0.0</td>\n",
       "      <td>0.0</td>\n",
       "      <td>0.0</td>\n",
       "      <td>0.0</td>\n",
       "      <td>28.0</td>\n",
       "      <td>1</td>\n",
       "    </tr>\n",
       "    <tr>\n",
       "      <th>1</th>\n",
       "      <td>0</td>\n",
       "      <td>27</td>\n",
       "      <td>1</td>\n",
       "      <td>1.0</td>\n",
       "      <td>19</td>\n",
       "      <td>0.0</td>\n",
       "      <td>0.0</td>\n",
       "      <td>0.0</td>\n",
       "      <td>0.0</td>\n",
       "      <td>1890.0</td>\n",
       "      <td>1</td>\n",
       "    </tr>\n",
       "    <tr>\n",
       "      <th>2</th>\n",
       "      <td>0</td>\n",
       "      <td>27</td>\n",
       "      <td>2</td>\n",
       "      <td>1.0</td>\n",
       "      <td>19</td>\n",
       "      <td>0.0</td>\n",
       "      <td>0.0</td>\n",
       "      <td>0.0</td>\n",
       "      <td>0.0</td>\n",
       "      <td>2499.0</td>\n",
       "      <td>1</td>\n",
       "    </tr>\n",
       "    <tr>\n",
       "      <th>3</th>\n",
       "      <td>0</td>\n",
       "      <td>27</td>\n",
       "      <td>10</td>\n",
       "      <td>1.0</td>\n",
       "      <td>19</td>\n",
       "      <td>0.0</td>\n",
       "      <td>0.0</td>\n",
       "      <td>0.0</td>\n",
       "      <td>0.0</td>\n",
       "      <td>1890.0</td>\n",
       "      <td>1</td>\n",
       "    </tr>\n",
       "    <tr>\n",
       "      <th>4</th>\n",
       "      <td>0</td>\n",
       "      <td>27</td>\n",
       "      <td>19</td>\n",
       "      <td>1.0</td>\n",
       "      <td>19</td>\n",
       "      <td>0.0</td>\n",
       "      <td>0.0</td>\n",
       "      <td>0.0</td>\n",
       "      <td>0.0</td>\n",
       "      <td>2499.0</td>\n",
       "      <td>1</td>\n",
       "    </tr>\n",
       "  </tbody>\n",
       "</table>\n",
       "</div>"
      ],
      "text/plain": [
       "   date_block_num  item_id  shop_id  item_cnt_month  item_cat  \\\n",
       "0               0       19       25             1.0        40   \n",
       "1               0       27        1             1.0        19   \n",
       "2               0       27        2             1.0        19   \n",
       "3               0       27       10             1.0        19   \n",
       "4               0       27       19             1.0        19   \n",
       "\n",
       "   item_cnt_month_lag_1  item_cnt_month_lag_2  item_cnt_month_lag_3  \\\n",
       "0                   0.0                   0.0                   0.0   \n",
       "1                   0.0                   0.0                   0.0   \n",
       "2                   0.0                   0.0                   0.0   \n",
       "3                   0.0                   0.0                   0.0   \n",
       "4                   0.0                   0.0                   0.0   \n",
       "\n",
       "   item_cnt_month_lag_6  item_price shop_index  \n",
       "0                   0.0        28.0          1  \n",
       "1                   0.0      1890.0          1  \n",
       "2                   0.0      2499.0          1  \n",
       "3                   0.0      1890.0          1  \n",
       "4                   0.0      2499.0          1  "
      ]
     },
     "execution_count": 45,
     "metadata": {},
     "output_type": "execute_result"
    }
   ],
   "source": [
    "train.head()"
   ]
  },
  {
   "cell_type": "code",
   "execution_count": 46,
   "metadata": {},
   "outputs": [],
   "source": [
    "train['day_in_month'] = ''"
   ]
  },
  {
   "cell_type": "code",
   "execution_count": 47,
   "metadata": {},
   "outputs": [],
   "source": [
    "train['day_in_month'] = train.date_block_num.apply(lambda x: nday_month(x))"
   ]
  },
  {
   "cell_type": "code",
   "execution_count": 48,
   "metadata": {},
   "outputs": [
    {
     "data": {
      "text/html": [
       "<div>\n",
       "<style scoped>\n",
       "    .dataframe tbody tr th:only-of-type {\n",
       "        vertical-align: middle;\n",
       "    }\n",
       "\n",
       "    .dataframe tbody tr th {\n",
       "        vertical-align: top;\n",
       "    }\n",
       "\n",
       "    .dataframe thead th {\n",
       "        text-align: right;\n",
       "    }\n",
       "</style>\n",
       "<table border=\"1\" class=\"dataframe\">\n",
       "  <thead>\n",
       "    <tr style=\"text-align: right;\">\n",
       "      <th></th>\n",
       "      <th>date_block_num</th>\n",
       "      <th>item_id</th>\n",
       "      <th>shop_id</th>\n",
       "      <th>item_cnt_month</th>\n",
       "      <th>item_cat</th>\n",
       "      <th>item_cnt_month_lag_1</th>\n",
       "      <th>item_cnt_month_lag_2</th>\n",
       "      <th>item_cnt_month_lag_3</th>\n",
       "      <th>item_cnt_month_lag_6</th>\n",
       "      <th>item_price</th>\n",
       "      <th>shop_index</th>\n",
       "      <th>day_in_month</th>\n",
       "    </tr>\n",
       "  </thead>\n",
       "  <tbody>\n",
       "    <tr>\n",
       "      <th>0</th>\n",
       "      <td>0</td>\n",
       "      <td>19</td>\n",
       "      <td>25</td>\n",
       "      <td>1.0</td>\n",
       "      <td>40</td>\n",
       "      <td>0.0</td>\n",
       "      <td>0.0</td>\n",
       "      <td>0.0</td>\n",
       "      <td>0.0</td>\n",
       "      <td>28.0</td>\n",
       "      <td>1</td>\n",
       "      <td>31</td>\n",
       "    </tr>\n",
       "    <tr>\n",
       "      <th>1</th>\n",
       "      <td>0</td>\n",
       "      <td>27</td>\n",
       "      <td>1</td>\n",
       "      <td>1.0</td>\n",
       "      <td>19</td>\n",
       "      <td>0.0</td>\n",
       "      <td>0.0</td>\n",
       "      <td>0.0</td>\n",
       "      <td>0.0</td>\n",
       "      <td>1890.0</td>\n",
       "      <td>1</td>\n",
       "      <td>31</td>\n",
       "    </tr>\n",
       "    <tr>\n",
       "      <th>2</th>\n",
       "      <td>0</td>\n",
       "      <td>27</td>\n",
       "      <td>2</td>\n",
       "      <td>1.0</td>\n",
       "      <td>19</td>\n",
       "      <td>0.0</td>\n",
       "      <td>0.0</td>\n",
       "      <td>0.0</td>\n",
       "      <td>0.0</td>\n",
       "      <td>2499.0</td>\n",
       "      <td>1</td>\n",
       "      <td>31</td>\n",
       "    </tr>\n",
       "    <tr>\n",
       "      <th>3</th>\n",
       "      <td>0</td>\n",
       "      <td>27</td>\n",
       "      <td>10</td>\n",
       "      <td>1.0</td>\n",
       "      <td>19</td>\n",
       "      <td>0.0</td>\n",
       "      <td>0.0</td>\n",
       "      <td>0.0</td>\n",
       "      <td>0.0</td>\n",
       "      <td>1890.0</td>\n",
       "      <td>1</td>\n",
       "      <td>31</td>\n",
       "    </tr>\n",
       "    <tr>\n",
       "      <th>4</th>\n",
       "      <td>0</td>\n",
       "      <td>27</td>\n",
       "      <td>19</td>\n",
       "      <td>1.0</td>\n",
       "      <td>19</td>\n",
       "      <td>0.0</td>\n",
       "      <td>0.0</td>\n",
       "      <td>0.0</td>\n",
       "      <td>0.0</td>\n",
       "      <td>2499.0</td>\n",
       "      <td>1</td>\n",
       "      <td>31</td>\n",
       "    </tr>\n",
       "  </tbody>\n",
       "</table>\n",
       "</div>"
      ],
      "text/plain": [
       "   date_block_num  item_id  shop_id  item_cnt_month  item_cat  \\\n",
       "0               0       19       25             1.0        40   \n",
       "1               0       27        1             1.0        19   \n",
       "2               0       27        2             1.0        19   \n",
       "3               0       27       10             1.0        19   \n",
       "4               0       27       19             1.0        19   \n",
       "\n",
       "   item_cnt_month_lag_1  item_cnt_month_lag_2  item_cnt_month_lag_3  \\\n",
       "0                   0.0                   0.0                   0.0   \n",
       "1                   0.0                   0.0                   0.0   \n",
       "2                   0.0                   0.0                   0.0   \n",
       "3                   0.0                   0.0                   0.0   \n",
       "4                   0.0                   0.0                   0.0   \n",
       "\n",
       "   item_cnt_month_lag_6  item_price shop_index  day_in_month  \n",
       "0                   0.0        28.0          1            31  \n",
       "1                   0.0      1890.0          1            31  \n",
       "2                   0.0      2499.0          1            31  \n",
       "3                   0.0      1890.0          1            31  \n",
       "4                   0.0      2499.0          1            31  "
      ]
     },
     "execution_count": 48,
     "metadata": {},
     "output_type": "execute_result"
    }
   ],
   "source": [
    "train.head()"
   ]
  },
  {
   "cell_type": "code",
   "execution_count": 49,
   "metadata": {},
   "outputs": [],
   "source": [
    "def wday_month(x):\n",
    "    if x<12:\n",
    "        year = 2013\n",
    "    if x>=12 and x<22:\n",
    "        year = 2014\n",
    "    if x>=22:\n",
    "        year = 2015\n",
    "    month = np.mod(x,12) + 1\n",
    "    temp = np.array(calendar.monthcalendar(year,month))[:,calendar.SATURDAY]\n",
    "    return (temp>0).sum()"
   ]
  },
  {
   "cell_type": "code",
   "execution_count": 50,
   "metadata": {},
   "outputs": [],
   "source": [
    "train['wday_in_month'] = ''"
   ]
  },
  {
   "cell_type": "code",
   "execution_count": 51,
   "metadata": {},
   "outputs": [],
   "source": [
    "train['wday_in_month'] = train.date_block_num.apply(lambda x: wday_month(x))"
   ]
  },
  {
   "cell_type": "code",
   "execution_count": 52,
   "metadata": {},
   "outputs": [],
   "source": [
    "train['month_index'] = ''"
   ]
  },
  {
   "cell_type": "code",
   "execution_count": 53,
   "metadata": {},
   "outputs": [],
   "source": [
    "train['month_index'] = train.date_block_num.apply(lambda x: np.mod(x,12)+1)"
   ]
  },
  {
   "cell_type": "code",
   "execution_count": 54,
   "metadata": {},
   "outputs": [
    {
     "data": {
      "text/html": [
       "<div>\n",
       "<style scoped>\n",
       "    .dataframe tbody tr th:only-of-type {\n",
       "        vertical-align: middle;\n",
       "    }\n",
       "\n",
       "    .dataframe tbody tr th {\n",
       "        vertical-align: top;\n",
       "    }\n",
       "\n",
       "    .dataframe thead th {\n",
       "        text-align: right;\n",
       "    }\n",
       "</style>\n",
       "<table border=\"1\" class=\"dataframe\">\n",
       "  <thead>\n",
       "    <tr style=\"text-align: right;\">\n",
       "      <th></th>\n",
       "      <th>date_block_num</th>\n",
       "      <th>item_id</th>\n",
       "      <th>shop_id</th>\n",
       "      <th>item_cnt_month</th>\n",
       "      <th>item_cat</th>\n",
       "      <th>item_cnt_month_lag_1</th>\n",
       "      <th>item_cnt_month_lag_2</th>\n",
       "      <th>item_cnt_month_lag_3</th>\n",
       "      <th>item_cnt_month_lag_6</th>\n",
       "      <th>item_price</th>\n",
       "      <th>shop_index</th>\n",
       "      <th>day_in_month</th>\n",
       "      <th>wday_in_month</th>\n",
       "      <th>month_index</th>\n",
       "    </tr>\n",
       "  </thead>\n",
       "  <tbody>\n",
       "    <tr>\n",
       "      <th>0</th>\n",
       "      <td>0</td>\n",
       "      <td>19</td>\n",
       "      <td>25</td>\n",
       "      <td>1.0</td>\n",
       "      <td>40</td>\n",
       "      <td>0.0</td>\n",
       "      <td>0.0</td>\n",
       "      <td>0.0</td>\n",
       "      <td>0.0</td>\n",
       "      <td>28.0</td>\n",
       "      <td>1</td>\n",
       "      <td>31</td>\n",
       "      <td>4</td>\n",
       "      <td>1</td>\n",
       "    </tr>\n",
       "    <tr>\n",
       "      <th>1</th>\n",
       "      <td>0</td>\n",
       "      <td>27</td>\n",
       "      <td>1</td>\n",
       "      <td>1.0</td>\n",
       "      <td>19</td>\n",
       "      <td>0.0</td>\n",
       "      <td>0.0</td>\n",
       "      <td>0.0</td>\n",
       "      <td>0.0</td>\n",
       "      <td>1890.0</td>\n",
       "      <td>1</td>\n",
       "      <td>31</td>\n",
       "      <td>4</td>\n",
       "      <td>1</td>\n",
       "    </tr>\n",
       "    <tr>\n",
       "      <th>2</th>\n",
       "      <td>0</td>\n",
       "      <td>27</td>\n",
       "      <td>2</td>\n",
       "      <td>1.0</td>\n",
       "      <td>19</td>\n",
       "      <td>0.0</td>\n",
       "      <td>0.0</td>\n",
       "      <td>0.0</td>\n",
       "      <td>0.0</td>\n",
       "      <td>2499.0</td>\n",
       "      <td>1</td>\n",
       "      <td>31</td>\n",
       "      <td>4</td>\n",
       "      <td>1</td>\n",
       "    </tr>\n",
       "    <tr>\n",
       "      <th>3</th>\n",
       "      <td>0</td>\n",
       "      <td>27</td>\n",
       "      <td>10</td>\n",
       "      <td>1.0</td>\n",
       "      <td>19</td>\n",
       "      <td>0.0</td>\n",
       "      <td>0.0</td>\n",
       "      <td>0.0</td>\n",
       "      <td>0.0</td>\n",
       "      <td>1890.0</td>\n",
       "      <td>1</td>\n",
       "      <td>31</td>\n",
       "      <td>4</td>\n",
       "      <td>1</td>\n",
       "    </tr>\n",
       "    <tr>\n",
       "      <th>4</th>\n",
       "      <td>0</td>\n",
       "      <td>27</td>\n",
       "      <td>19</td>\n",
       "      <td>1.0</td>\n",
       "      <td>19</td>\n",
       "      <td>0.0</td>\n",
       "      <td>0.0</td>\n",
       "      <td>0.0</td>\n",
       "      <td>0.0</td>\n",
       "      <td>2499.0</td>\n",
       "      <td>1</td>\n",
       "      <td>31</td>\n",
       "      <td>4</td>\n",
       "      <td>1</td>\n",
       "    </tr>\n",
       "  </tbody>\n",
       "</table>\n",
       "</div>"
      ],
      "text/plain": [
       "   date_block_num  item_id  shop_id  item_cnt_month  item_cat  \\\n",
       "0               0       19       25             1.0        40   \n",
       "1               0       27        1             1.0        19   \n",
       "2               0       27        2             1.0        19   \n",
       "3               0       27       10             1.0        19   \n",
       "4               0       27       19             1.0        19   \n",
       "\n",
       "   item_cnt_month_lag_1  item_cnt_month_lag_2  item_cnt_month_lag_3  \\\n",
       "0                   0.0                   0.0                   0.0   \n",
       "1                   0.0                   0.0                   0.0   \n",
       "2                   0.0                   0.0                   0.0   \n",
       "3                   0.0                   0.0                   0.0   \n",
       "4                   0.0                   0.0                   0.0   \n",
       "\n",
       "   item_cnt_month_lag_6  item_price shop_index  day_in_month  wday_in_month  \\\n",
       "0                   0.0        28.0          1            31              4   \n",
       "1                   0.0      1890.0          1            31              4   \n",
       "2                   0.0      2499.0          1            31              4   \n",
       "3                   0.0      1890.0          1            31              4   \n",
       "4                   0.0      2499.0          1            31              4   \n",
       "\n",
       "   month_index  \n",
       "0            1  \n",
       "1            1  \n",
       "2            1  \n",
       "3            1  \n",
       "4            1  "
      ]
     },
     "execution_count": 54,
     "metadata": {},
     "output_type": "execute_result"
    }
   ],
   "source": [
    "train.head()"
   ]
  },
  {
   "cell_type": "code",
   "execution_count": 55,
   "metadata": {},
   "outputs": [
    {
     "name": "stderr",
     "output_type": "stream",
     "text": [
      "100%|████████████████████████████████████████████████████████████████████████████████████| 4/4 [00:04<00:00,  1.20s/it]\n"
     ]
    }
   ],
   "source": [
    "# add previous price point as lag feature\n",
    "del temp\n",
    "temp = train.copy()\n",
    "def lag_feature(df, lags, col):\n",
    "    tmp = df[['date_block_num','shop_id','item_id',col]] #made a temporary dataframe\n",
    "    for i in tqdm.tqdm(lags):\n",
    "        shifted = tmp.copy()\n",
    "        shifted.columns = ['date_block_num','shop_id','item_id', col+'_lag_'+str(i)]\n",
    "        shifted['date_block_num'] += i\n",
    "        df = pd.merge(df, shifted, on=['date_block_num','shop_id','item_id'], how='left')\n",
    "    return df\n",
    "temp = lag_feature(train,lags,'item_price')"
   ]
  },
  {
   "cell_type": "code",
   "execution_count": 56,
   "metadata": {},
   "outputs": [],
   "source": [
    "temp.loc[temp.item_price_lag_1.isnull(),'item_price_lag_1'] = temp.item_price"
   ]
  },
  {
   "cell_type": "code",
   "execution_count": 57,
   "metadata": {},
   "outputs": [],
   "source": [
    "temp.loc[temp.item_price_lag_2.isnull(),'item_price_lag_2'] = temp.item_price_lag_1\n",
    "temp.loc[temp.item_price_lag_3.isnull(),'item_price_lag_3'] = temp.item_price_lag_2\n",
    "temp.loc[temp.item_price_lag_6.isnull(),'item_price_lag_6'] = temp.item_price_lag_3\n",
    "#temp.loc[temp.item_price_lag_12.isnull(),'item_price_lag_12'] = temp.item_price_lag_6"
   ]
  },
  {
   "cell_type": "code",
   "execution_count": 58,
   "metadata": {},
   "outputs": [
    {
     "data": {
      "text/html": [
       "<div>\n",
       "<style scoped>\n",
       "    .dataframe tbody tr th:only-of-type {\n",
       "        vertical-align: middle;\n",
       "    }\n",
       "\n",
       "    .dataframe tbody tr th {\n",
       "        vertical-align: top;\n",
       "    }\n",
       "\n",
       "    .dataframe thead th {\n",
       "        text-align: right;\n",
       "    }\n",
       "</style>\n",
       "<table border=\"1\" class=\"dataframe\">\n",
       "  <thead>\n",
       "    <tr style=\"text-align: right;\">\n",
       "      <th></th>\n",
       "      <th>date_block_num</th>\n",
       "      <th>item_id</th>\n",
       "      <th>shop_id</th>\n",
       "      <th>item_cnt_month</th>\n",
       "      <th>item_cat</th>\n",
       "      <th>item_cnt_month_lag_1</th>\n",
       "      <th>item_cnt_month_lag_2</th>\n",
       "      <th>item_cnt_month_lag_3</th>\n",
       "      <th>item_cnt_month_lag_6</th>\n",
       "      <th>item_price</th>\n",
       "      <th>shop_index</th>\n",
       "      <th>day_in_month</th>\n",
       "      <th>wday_in_month</th>\n",
       "      <th>month_index</th>\n",
       "      <th>item_price_lag_1</th>\n",
       "      <th>item_price_lag_2</th>\n",
       "      <th>item_price_lag_3</th>\n",
       "      <th>item_price_lag_6</th>\n",
       "    </tr>\n",
       "  </thead>\n",
       "  <tbody>\n",
       "    <tr>\n",
       "      <th>0</th>\n",
       "      <td>0</td>\n",
       "      <td>19</td>\n",
       "      <td>25</td>\n",
       "      <td>1.0</td>\n",
       "      <td>40</td>\n",
       "      <td>0.0</td>\n",
       "      <td>0.0</td>\n",
       "      <td>0.0</td>\n",
       "      <td>0.0</td>\n",
       "      <td>28.0</td>\n",
       "      <td>1</td>\n",
       "      <td>31</td>\n",
       "      <td>4</td>\n",
       "      <td>1</td>\n",
       "      <td>28.0</td>\n",
       "      <td>28.0</td>\n",
       "      <td>28.0</td>\n",
       "      <td>28.0</td>\n",
       "    </tr>\n",
       "    <tr>\n",
       "      <th>1</th>\n",
       "      <td>0</td>\n",
       "      <td>27</td>\n",
       "      <td>1</td>\n",
       "      <td>1.0</td>\n",
       "      <td>19</td>\n",
       "      <td>0.0</td>\n",
       "      <td>0.0</td>\n",
       "      <td>0.0</td>\n",
       "      <td>0.0</td>\n",
       "      <td>1890.0</td>\n",
       "      <td>1</td>\n",
       "      <td>31</td>\n",
       "      <td>4</td>\n",
       "      <td>1</td>\n",
       "      <td>1890.0</td>\n",
       "      <td>1890.0</td>\n",
       "      <td>1890.0</td>\n",
       "      <td>1890.0</td>\n",
       "    </tr>\n",
       "    <tr>\n",
       "      <th>2</th>\n",
       "      <td>0</td>\n",
       "      <td>27</td>\n",
       "      <td>2</td>\n",
       "      <td>1.0</td>\n",
       "      <td>19</td>\n",
       "      <td>0.0</td>\n",
       "      <td>0.0</td>\n",
       "      <td>0.0</td>\n",
       "      <td>0.0</td>\n",
       "      <td>2499.0</td>\n",
       "      <td>1</td>\n",
       "      <td>31</td>\n",
       "      <td>4</td>\n",
       "      <td>1</td>\n",
       "      <td>2499.0</td>\n",
       "      <td>2499.0</td>\n",
       "      <td>2499.0</td>\n",
       "      <td>2499.0</td>\n",
       "    </tr>\n",
       "    <tr>\n",
       "      <th>3</th>\n",
       "      <td>0</td>\n",
       "      <td>27</td>\n",
       "      <td>10</td>\n",
       "      <td>1.0</td>\n",
       "      <td>19</td>\n",
       "      <td>0.0</td>\n",
       "      <td>0.0</td>\n",
       "      <td>0.0</td>\n",
       "      <td>0.0</td>\n",
       "      <td>1890.0</td>\n",
       "      <td>1</td>\n",
       "      <td>31</td>\n",
       "      <td>4</td>\n",
       "      <td>1</td>\n",
       "      <td>1890.0</td>\n",
       "      <td>1890.0</td>\n",
       "      <td>1890.0</td>\n",
       "      <td>1890.0</td>\n",
       "    </tr>\n",
       "    <tr>\n",
       "      <th>4</th>\n",
       "      <td>0</td>\n",
       "      <td>27</td>\n",
       "      <td>19</td>\n",
       "      <td>1.0</td>\n",
       "      <td>19</td>\n",
       "      <td>0.0</td>\n",
       "      <td>0.0</td>\n",
       "      <td>0.0</td>\n",
       "      <td>0.0</td>\n",
       "      <td>2499.0</td>\n",
       "      <td>1</td>\n",
       "      <td>31</td>\n",
       "      <td>4</td>\n",
       "      <td>1</td>\n",
       "      <td>2499.0</td>\n",
       "      <td>2499.0</td>\n",
       "      <td>2499.0</td>\n",
       "      <td>2499.0</td>\n",
       "    </tr>\n",
       "    <tr>\n",
       "      <th>...</th>\n",
       "      <td>...</td>\n",
       "      <td>...</td>\n",
       "      <td>...</td>\n",
       "      <td>...</td>\n",
       "      <td>...</td>\n",
       "      <td>...</td>\n",
       "      <td>...</td>\n",
       "      <td>...</td>\n",
       "      <td>...</td>\n",
       "      <td>...</td>\n",
       "      <td>...</td>\n",
       "      <td>...</td>\n",
       "      <td>...</td>\n",
       "      <td>...</td>\n",
       "      <td>...</td>\n",
       "      <td>...</td>\n",
       "      <td>...</td>\n",
       "      <td>...</td>\n",
       "    </tr>\n",
       "    <tr>\n",
       "      <th>1720520</th>\n",
       "      <td>34</td>\n",
       "      <td>22145</td>\n",
       "      <td>59</td>\n",
       "      <td>0.0</td>\n",
       "      <td>37</td>\n",
       "      <td>0.0</td>\n",
       "      <td>0.0</td>\n",
       "      <td>0.0</td>\n",
       "      <td>0.0</td>\n",
       "      <td>549.0</td>\n",
       "      <td>0.999089</td>\n",
       "      <td>30</td>\n",
       "      <td>4</td>\n",
       "      <td>11</td>\n",
       "      <td>549.0</td>\n",
       "      <td>549.0</td>\n",
       "      <td>549.0</td>\n",
       "      <td>549.0</td>\n",
       "    </tr>\n",
       "    <tr>\n",
       "      <th>1720521</th>\n",
       "      <td>34</td>\n",
       "      <td>22154</td>\n",
       "      <td>59</td>\n",
       "      <td>0.0</td>\n",
       "      <td>37</td>\n",
       "      <td>0.0</td>\n",
       "      <td>0.0</td>\n",
       "      <td>0.0</td>\n",
       "      <td>0.0</td>\n",
       "      <td>999.0</td>\n",
       "      <td>0.999089</td>\n",
       "      <td>30</td>\n",
       "      <td>4</td>\n",
       "      <td>11</td>\n",
       "      <td>999.0</td>\n",
       "      <td>999.0</td>\n",
       "      <td>999.0</td>\n",
       "      <td>999.0</td>\n",
       "    </tr>\n",
       "    <tr>\n",
       "      <th>1720522</th>\n",
       "      <td>34</td>\n",
       "      <td>22162</td>\n",
       "      <td>59</td>\n",
       "      <td>0.0</td>\n",
       "      <td>40</td>\n",
       "      <td>0.0</td>\n",
       "      <td>0.0</td>\n",
       "      <td>1.0</td>\n",
       "      <td>1.0</td>\n",
       "      <td>349.0</td>\n",
       "      <td>0.999089</td>\n",
       "      <td>30</td>\n",
       "      <td>4</td>\n",
       "      <td>11</td>\n",
       "      <td>349.0</td>\n",
       "      <td>349.0</td>\n",
       "      <td>349.0</td>\n",
       "      <td>349.0</td>\n",
       "    </tr>\n",
       "    <tr>\n",
       "      <th>1720523</th>\n",
       "      <td>34</td>\n",
       "      <td>22164</td>\n",
       "      <td>59</td>\n",
       "      <td>0.0</td>\n",
       "      <td>37</td>\n",
       "      <td>0.0</td>\n",
       "      <td>0.0</td>\n",
       "      <td>0.0</td>\n",
       "      <td>0.0</td>\n",
       "      <td>699.0</td>\n",
       "      <td>0.999089</td>\n",
       "      <td>30</td>\n",
       "      <td>4</td>\n",
       "      <td>11</td>\n",
       "      <td>699.0</td>\n",
       "      <td>699.0</td>\n",
       "      <td>699.0</td>\n",
       "      <td>699.0</td>\n",
       "    </tr>\n",
       "    <tr>\n",
       "      <th>1720524</th>\n",
       "      <td>34</td>\n",
       "      <td>22167</td>\n",
       "      <td>59</td>\n",
       "      <td>0.0</td>\n",
       "      <td>49</td>\n",
       "      <td>0.0</td>\n",
       "      <td>0.0</td>\n",
       "      <td>0.0</td>\n",
       "      <td>0.0</td>\n",
       "      <td>299.0</td>\n",
       "      <td>0.999089</td>\n",
       "      <td>30</td>\n",
       "      <td>4</td>\n",
       "      <td>11</td>\n",
       "      <td>299.0</td>\n",
       "      <td>299.0</td>\n",
       "      <td>299.0</td>\n",
       "      <td>299.0</td>\n",
       "    </tr>\n",
       "  </tbody>\n",
       "</table>\n",
       "<p>1720525 rows × 18 columns</p>\n",
       "</div>"
      ],
      "text/plain": [
       "         date_block_num  item_id  shop_id  item_cnt_month  item_cat  \\\n",
       "0                     0       19       25             1.0        40   \n",
       "1                     0       27        1             1.0        19   \n",
       "2                     0       27        2             1.0        19   \n",
       "3                     0       27       10             1.0        19   \n",
       "4                     0       27       19             1.0        19   \n",
       "...                 ...      ...      ...             ...       ...   \n",
       "1720520              34    22145       59             0.0        37   \n",
       "1720521              34    22154       59             0.0        37   \n",
       "1720522              34    22162       59             0.0        40   \n",
       "1720523              34    22164       59             0.0        37   \n",
       "1720524              34    22167       59             0.0        49   \n",
       "\n",
       "         item_cnt_month_lag_1  item_cnt_month_lag_2  item_cnt_month_lag_3  \\\n",
       "0                         0.0                   0.0                   0.0   \n",
       "1                         0.0                   0.0                   0.0   \n",
       "2                         0.0                   0.0                   0.0   \n",
       "3                         0.0                   0.0                   0.0   \n",
       "4                         0.0                   0.0                   0.0   \n",
       "...                       ...                   ...                   ...   \n",
       "1720520                   0.0                   0.0                   0.0   \n",
       "1720521                   0.0                   0.0                   0.0   \n",
       "1720522                   0.0                   0.0                   1.0   \n",
       "1720523                   0.0                   0.0                   0.0   \n",
       "1720524                   0.0                   0.0                   0.0   \n",
       "\n",
       "         item_cnt_month_lag_6  item_price shop_index  day_in_month  \\\n",
       "0                         0.0        28.0          1            31   \n",
       "1                         0.0      1890.0          1            31   \n",
       "2                         0.0      2499.0          1            31   \n",
       "3                         0.0      1890.0          1            31   \n",
       "4                         0.0      2499.0          1            31   \n",
       "...                       ...         ...        ...           ...   \n",
       "1720520                   0.0       549.0   0.999089            30   \n",
       "1720521                   0.0       999.0   0.999089            30   \n",
       "1720522                   1.0       349.0   0.999089            30   \n",
       "1720523                   0.0       699.0   0.999089            30   \n",
       "1720524                   0.0       299.0   0.999089            30   \n",
       "\n",
       "         wday_in_month  month_index  item_price_lag_1  item_price_lag_2  \\\n",
       "0                    4            1              28.0              28.0   \n",
       "1                    4            1            1890.0            1890.0   \n",
       "2                    4            1            2499.0            2499.0   \n",
       "3                    4            1            1890.0            1890.0   \n",
       "4                    4            1            2499.0            2499.0   \n",
       "...                ...          ...               ...               ...   \n",
       "1720520              4           11             549.0             549.0   \n",
       "1720521              4           11             999.0             999.0   \n",
       "1720522              4           11             349.0             349.0   \n",
       "1720523              4           11             699.0             699.0   \n",
       "1720524              4           11             299.0             299.0   \n",
       "\n",
       "         item_price_lag_3  item_price_lag_6  \n",
       "0                    28.0              28.0  \n",
       "1                  1890.0            1890.0  \n",
       "2                  2499.0            2499.0  \n",
       "3                  1890.0            1890.0  \n",
       "4                  2499.0            2499.0  \n",
       "...                   ...               ...  \n",
       "1720520             549.0             549.0  \n",
       "1720521             999.0             999.0  \n",
       "1720522             349.0             349.0  \n",
       "1720523             699.0             699.0  \n",
       "1720524             299.0             299.0  \n",
       "\n",
       "[1720525 rows x 18 columns]"
      ]
     },
     "execution_count": 58,
     "metadata": {},
     "output_type": "execute_result"
    }
   ],
   "source": [
    "temp"
   ]
  },
  {
   "cell_type": "code",
   "execution_count": 59,
   "metadata": {},
   "outputs": [
    {
     "name": "stdout",
     "output_type": "stream",
     "text": [
      "<class 'pandas.core.frame.DataFrame'>\n",
      "Int64Index: 1720525 entries, 0 to 1720524\n",
      "Data columns (total 18 columns):\n",
      " #   Column                Dtype  \n",
      "---  ------                -----  \n",
      " 0   date_block_num        int64  \n",
      " 1   item_id               int64  \n",
      " 2   shop_id               int64  \n",
      " 3   item_cnt_month        float64\n",
      " 4   item_cat              int64  \n",
      " 5   item_cnt_month_lag_1  float64\n",
      " 6   item_cnt_month_lag_2  float64\n",
      " 7   item_cnt_month_lag_3  float64\n",
      " 8   item_cnt_month_lag_6  float64\n",
      " 9   item_price            float64\n",
      " 10  shop_index            object \n",
      " 11  day_in_month          int64  \n",
      " 12  wday_in_month         int64  \n",
      " 13  month_index           int64  \n",
      " 14  item_price_lag_1      float64\n",
      " 15  item_price_lag_2      float64\n",
      " 16  item_price_lag_3      float64\n",
      " 17  item_price_lag_6      float64\n",
      "dtypes: float64(10), int64(7), object(1)\n",
      "memory usage: 329.4+ MB\n"
     ]
    }
   ],
   "source": [
    "# We have included lag price feature under some assumption: If no previous price history can be obtained, use the present price point as the previous one\n",
    "train = temp\n",
    "train.info()"
   ]
  },
  {
   "cell_type": "code",
   "execution_count": 60,
   "metadata": {},
   "outputs": [
    {
     "name": "stdout",
     "output_type": "stream",
     "text": [
      "<class 'pandas.core.frame.DataFrame'>\n",
      "Int64Index: 1720525 entries, 0 to 1720524\n",
      "Data columns (total 18 columns):\n",
      " #   Column                Dtype  \n",
      "---  ------                -----  \n",
      " 0   date_block_num        int16  \n",
      " 1   item_id               int16  \n",
      " 2   shop_id               int16  \n",
      " 3   item_cnt_month        float32\n",
      " 4   item_cat              int16  \n",
      " 5   item_cnt_month_lag_1  float32\n",
      " 6   item_cnt_month_lag_2  float32\n",
      " 7   item_cnt_month_lag_3  float32\n",
      " 8   item_cnt_month_lag_6  float32\n",
      " 9   item_price            float32\n",
      " 10  shop_index            object \n",
      " 11  day_in_month          int16  \n",
      " 12  wday_in_month         int16  \n",
      " 13  month_index           int16  \n",
      " 14  item_price_lag_1      float32\n",
      " 15  item_price_lag_2      float32\n",
      " 16  item_price_lag_3      float32\n",
      " 17  item_price_lag_6      float32\n",
      "dtypes: float32(10), int16(7), object(1)\n",
      "memory usage: 194.9+ MB\n"
     ]
    }
   ],
   "source": [
    "def downcast(df):\n",
    "    #finding floating point columns\n",
    "    float_cols = [c for c in df if df[c].dtype == 'float64']\n",
    "    #finding integer columns\n",
    "    int_cols = [c for c in df if df[c].dtype in ['int32','int64']]\n",
    "    df[float_cols] = df[float_cols].astype(np.float32)\n",
    "    df[int_cols] = df[int_cols].astype(np.int16)\n",
    "    return df\n",
    "\n",
    "train = downcast(train)\n",
    "train.info()"
   ]
  },
  {
   "cell_type": "code",
   "execution_count": 61,
   "metadata": {},
   "outputs": [
    {
     "name": "stderr",
     "output_type": "stream",
     "text": [
      "100%|████████████████████████████████████████████████████████████████████████████████████| 4/4 [00:04<00:00,  1.16s/it]\n"
     ]
    }
   ],
   "source": [
    "exp = train.groupby(['date_block_num','item_id'])['item_cnt_month'].mean()\n",
    "exp = pd.DataFrame(exp).reset_index()\n",
    "exp = exp.rename(columns={'item_cnt_month':'avg_item_sale'})\n",
    "temp = pd.merge(train,exp,on=['item_id','date_block_num'],how = 'left')\n",
    "temp.avg_item_sale = temp.avg_item_sale.astype(np.float32)\n",
    "# adding lag feature\n",
    "temp = lag_feature(temp,lags,'avg_item_sale')\n",
    "temp.fillna(0,inplace=True)\n",
    "temp = temp.drop(columns=['avg_item_sale'],axis=1)\n",
    "train = temp\n",
    "traincopy = train.copy()"
   ]
  },
  {
   "cell_type": "code",
   "execution_count": 62,
   "metadata": {},
   "outputs": [
    {
     "name": "stdout",
     "output_type": "stream",
     "text": [
      "<class 'pandas.core.frame.DataFrame'>\n",
      "Int64Index: 1720525 entries, 0 to 1720524\n",
      "Data columns (total 22 columns):\n",
      " #   Column                Dtype  \n",
      "---  ------                -----  \n",
      " 0   date_block_num        int16  \n",
      " 1   item_id               int16  \n",
      " 2   shop_id               int16  \n",
      " 3   item_cnt_month        float32\n",
      " 4   item_cat              int16  \n",
      " 5   item_cnt_month_lag_1  float32\n",
      " 6   item_cnt_month_lag_2  float32\n",
      " 7   item_cnt_month_lag_3  float32\n",
      " 8   item_cnt_month_lag_6  float32\n",
      " 9   item_price            float32\n",
      " 10  shop_index            float64\n",
      " 11  day_in_month          int16  \n",
      " 12  wday_in_month         int16  \n",
      " 13  month_index           int16  \n",
      " 14  item_price_lag_1      float32\n",
      " 15  item_price_lag_2      float32\n",
      " 16  item_price_lag_3      float32\n",
      " 17  item_price_lag_6      float32\n",
      " 18  avg_item_sale_lag_1   float32\n",
      " 19  avg_item_sale_lag_2   float32\n",
      " 20  avg_item_sale_lag_3   float32\n",
      " 21  avg_item_sale_lag_6   float32\n",
      "dtypes: float32(14), float64(1), int16(7)\n",
      "memory usage: 141.1 MB\n"
     ]
    }
   ],
   "source": [
    "train.info()"
   ]
  },
  {
   "cell_type": "code",
   "execution_count": 63,
   "metadata": {},
   "outputs": [
    {
     "name": "stderr",
     "output_type": "stream",
     "text": [
      "100%|████████████████████████████████████████████████████████████████████████████████████| 4/4 [00:04<00:00,  1.20s/it]\n"
     ]
    }
   ],
   "source": [
    "exp = train.groupby(['date_block_num','shop_id'])['item_cnt_month'].mean()\n",
    "exp = pd.DataFrame(exp).reset_index()\n",
    "exp = exp.rename(columns={'item_cnt_month':'avg_shop_sale'})\n",
    "temp = pd.merge(train,exp,on=['shop_id','date_block_num'],how = 'left')\n",
    "temp.avg_shop_sale = temp.avg_shop_sale.astype(np.float32)\n",
    "# adding lag feature\n",
    "temp = lag_feature(temp,lags,'avg_shop_sale')\n",
    "temp.fillna(0,inplace=True)\n",
    "temp = temp.drop(columns=['avg_shop_sale'],axis=1)"
   ]
  },
  {
   "cell_type": "code",
   "execution_count": 64,
   "metadata": {},
   "outputs": [],
   "source": [
    "train = temp\n",
    "traincopy = train.copy()"
   ]
  },
  {
   "cell_type": "code",
   "execution_count": 65,
   "metadata": {},
   "outputs": [
    {
     "name": "stderr",
     "output_type": "stream",
     "text": [
      "100%|████████████████████████████████████████████████████████████████████████████████████| 4/4 [00:04<00:00,  1.23s/it]\n"
     ]
    }
   ],
   "source": [
    "exp = train.groupby(['date_block_num','item_cat'])['item_cnt_month'].mean()\n",
    "exp = pd.DataFrame(exp).reset_index()\n",
    "exp = exp.rename(columns={'item_cnt_month':'avg_cat_sale'})\n",
    "temp = pd.merge(train,exp,on=['item_cat','date_block_num'],how = 'left')\n",
    "temp.avg_cat_sale = temp.avg_cat_sale.astype(np.float32)\n",
    "# adding lag feature\n",
    "temp = lag_feature(temp,lags,'avg_cat_sale')\n",
    "temp.fillna(0,inplace=True)\n",
    "temp = temp.drop(columns=['avg_cat_sale'],axis=1)\n",
    "train = temp\n",
    "traincopy = train.copy"
   ]
  },
  {
   "cell_type": "code",
   "execution_count": 66,
   "metadata": {},
   "outputs": [
    {
     "name": "stderr",
     "output_type": "stream",
     "text": [
      "100%|████████████████████████████████████████████████████████████████████████████████████| 4/4 [00:04<00:00,  1.29s/it]\n"
     ]
    }
   ],
   "source": [
    "exp = train.groupby(['date_block_num','item_id'])['item_cnt_month'].sum()\n",
    "exp = pd.DataFrame(exp).reset_index()\n",
    "exp = exp.rename(columns={'item_cnt_month':'tot_item_sale'})\n",
    "temp = pd.merge(train,exp,on=['item_id','date_block_num'],how = 'left')\n",
    "temp.tot_item_sale = temp.tot_item_sale.astype(np.float32)\n",
    "# adding lag feature\n",
    "temp = lag_feature(temp,lags,'tot_item_sale')\n",
    "temp.fillna(0,inplace=True)\n",
    "temp = temp.drop(columns=['tot_item_sale'],axis=1)\n",
    "train = temp\n",
    "traincopy = train.copy()"
   ]
  },
  {
   "cell_type": "code",
   "execution_count": 67,
   "metadata": {},
   "outputs": [
    {
     "name": "stderr",
     "output_type": "stream",
     "text": [
      "100%|████████████████████████████████████████████████████████████████████████████████████| 4/4 [00:05<00:00,  1.35s/it]\n"
     ]
    }
   ],
   "source": [
    "exp = train.groupby(['date_block_num','shop_id'])['item_cnt_month'].sum()\n",
    "exp = pd.DataFrame(exp).reset_index()\n",
    "exp = exp.rename(columns={'item_cnt_month':'tot_shop_sale'})\n",
    "temp = pd.merge(train,exp,on=['shop_id','date_block_num'],how = 'left')\n",
    "temp.tot_shop_sale = temp.tot_shop_sale.astype(np.float32)\n",
    "# adding lag feature\n",
    "temp = lag_feature(temp,lags,'tot_shop_sale')\n",
    "temp.fillna(0,inplace=True)\n",
    "temp = temp.drop(columns=['tot_shop_sale'],axis=1)\n",
    "train = temp\n",
    "traincopy = train.copy()"
   ]
  },
  {
   "cell_type": "code",
   "execution_count": 68,
   "metadata": {},
   "outputs": [
    {
     "name": "stderr",
     "output_type": "stream",
     "text": [
      "100%|████████████████████████████████████████████████████████████████████████████████████| 4/4 [00:05<00:00,  1.36s/it]\n"
     ]
    }
   ],
   "source": [
    "exp = train.groupby(['date_block_num','item_cat'])['item_cnt_month'].sum()\n",
    "exp = pd.DataFrame(exp).reset_index()\n",
    "exp = exp.rename(columns={'item_cnt_month':'tot_cat_sale'})\n",
    "temp = pd.merge(train,exp,on=['item_cat','date_block_num'],how = 'left')\n",
    "temp.tot_cat_sale = temp.tot_cat_sale.astype(np.float32)\n",
    "# adding lag feature\n",
    "temp = lag_feature(temp,lags,'tot_cat_sale')\n",
    "temp.fillna(0,inplace=True)\n",
    "temp = temp.drop(columns=['tot_cat_sale'],axis=1)\n",
    "train = temp\n",
    "traincopy = train.copy()"
   ]
  },
  {
   "cell_type": "code",
   "execution_count": 69,
   "metadata": {},
   "outputs": [],
   "source": [
    "# Price Trend Feature\n",
    "matrix = train.copy()\n",
    "def strend(row):\n",
    "    for i in lags:\n",
    "        if row['pr_trend_lag_'+str(i)]:\n",
    "            return row['pr_trend_lag_'+str(i)]\n",
    "    return 0\n",
    "\n",
    "exp = matrix.groupby('item_id')['item_price'].mean()\n",
    "exp = pd.DataFrame(exp)\n",
    "exp = exp.reset_index()\n",
    "exp = exp.rename(columns={'item_price':'avg_item_price'})\n",
    "matrix = pd.merge(matrix,exp,on=['item_id'],how='left')\n",
    "for i in lags:\n",
    "    matrix['pr_trend_lag_'+str(i)] = ''\n",
    "    matrix['pr_trend_lag_'+str(i)] = (matrix['item_price_lag_'+str(i)] - matrix['avg_item_price'])/matrix['avg_item_price']\n",
    "matrix['slope_price'] = matrix.apply(strend, axis=1)\n",
    "drop_item = ['avg_item_price']\n",
    "for i in lags:\n",
    "    drop_item += ['pr_trend_lag_'+str(i)]\n",
    "matrix = matrix.drop(columns=drop_item,axis=1)\n",
    "#train = matrix\n",
    "#traincopy = train.copy()"
   ]
  },
  {
   "cell_type": "code",
   "execution_count": 70,
   "metadata": {},
   "outputs": [],
   "source": [
    "train = matrix\n",
    "traincopy = train.copy()\n",
    "del matrix"
   ]
  },
  {
   "cell_type": "code",
   "execution_count": 71,
   "metadata": {},
   "outputs": [
    {
     "data": {
      "text/plain": [
       "Index(['date_block_num', 'item_id', 'shop_id', 'item_cnt_month', 'item_cat',\n",
       "       'item_cnt_month_lag_1', 'item_cnt_month_lag_2', 'item_cnt_month_lag_3',\n",
       "       'item_cnt_month_lag_6', 'item_price', 'shop_index', 'day_in_month',\n",
       "       'wday_in_month', 'month_index', 'item_price_lag_1', 'item_price_lag_2',\n",
       "       'item_price_lag_3', 'item_price_lag_6', 'avg_item_sale_lag_1',\n",
       "       'avg_item_sale_lag_2', 'avg_item_sale_lag_3', 'avg_item_sale_lag_6',\n",
       "       'avg_shop_sale_lag_1', 'avg_shop_sale_lag_2', 'avg_shop_sale_lag_3',\n",
       "       'avg_shop_sale_lag_6', 'avg_cat_sale_lag_1', 'avg_cat_sale_lag_2',\n",
       "       'avg_cat_sale_lag_3', 'avg_cat_sale_lag_6', 'tot_item_sale_lag_1',\n",
       "       'tot_item_sale_lag_2', 'tot_item_sale_lag_3', 'tot_item_sale_lag_6',\n",
       "       'tot_shop_sale_lag_1', 'tot_shop_sale_lag_2', 'tot_shop_sale_lag_3',\n",
       "       'tot_shop_sale_lag_6', 'tot_cat_sale_lag_1', 'tot_cat_sale_lag_2',\n",
       "       'tot_cat_sale_lag_3', 'tot_cat_sale_lag_6', 'slope_price'],\n",
       "      dtype='object')"
      ]
     },
     "execution_count": 71,
     "metadata": {},
     "output_type": "execute_result"
    }
   ],
   "source": [
    "############### MODEL PREPARATION ###################\n",
    "train = traincopy\n",
    "train.columns"
   ]
  },
  {
   "cell_type": "code",
   "execution_count": 72,
   "metadata": {},
   "outputs": [
    {
     "name": "stderr",
     "output_type": "stream",
     "text": [
      "100%|████████████████████████████████████████████████████████████████████████████████████| 4/4 [00:05<00:00,  1.47s/it]\n"
     ]
    }
   ],
   "source": [
    "#monthly sale\n",
    "exp = sales_train.groupby('date_block_num')['item_cnt_day'].sum()\n",
    "monthly_sale = pd.DataFrame(exp).reset_index()\n",
    "temp = pd.merge(train,monthly_sale,on=['date_block_num'],how= 'left')\n",
    "temp = temp.rename(columns = {'item_cnt_day':'monthly_sale'})\n",
    "temp = lag_feature(temp,lags,'monthly_sale')\n",
    "temp.fillna(0,inplace= True)\n",
    "temp = temp.drop(columns=['monthly_sale'],axis=1)\n",
    "train = temp\n",
    "traincopy = train.copy()"
   ]
  },
  {
   "cell_type": "code",
   "execution_count": 73,
   "metadata": {},
   "outputs": [],
   "source": [
    "train = traincopy\n",
    "train = train.drop(columns=['item_price'],axis=1)\n",
    "#train['item_cnt_month'] = train.item_cnt_month.clip(0,20)\n",
    "train.fillna(0,inplace=True)\n",
    "train['shop_index'] = train['shop_index'].astype(np.float32)\n",
    "train = train[train['date_block_num']>= np.max(lags)]\n",
    "valid_month = 33\n",
    "test_month = 34\n",
    "xtrain = train[train.date_block_num<valid_month].drop(columns='item_cnt_month', axis =1)\n",
    "ytrain = train[train.date_block_num<valid_month]['item_cnt_month']\n",
    "xvalid = train[train.date_block_num==valid_month].drop(columns='item_cnt_month', axis =1)\n",
    "yvalid = train[train.date_block_num==valid_month]['item_cnt_month']\n",
    "xtest = train[train.date_block_num==test_month].drop(columns='item_cnt_month', axis =1)"
   ]
  },
  {
   "cell_type": "code",
   "execution_count": 74,
   "metadata": {},
   "outputs": [
    {
     "name": "stdout",
     "output_type": "stream",
     "text": [
      "[0]\tvalidation_0-rmse:2.83307\tvalidation_1-rmse:2.78112\n",
      "Multiple eval metrics have been passed: 'validation_1-rmse' will be used for early stopping.\n",
      "\n",
      "Will train until validation_1-rmse hasn't improved in 10 rounds.\n",
      "[1]\tvalidation_0-rmse:2.66803\tvalidation_1-rmse:2.66324\n",
      "[2]\tvalidation_0-rmse:2.52672\tvalidation_1-rmse:2.55674\n",
      "[3]\tvalidation_0-rmse:2.40081\tvalidation_1-rmse:2.48222\n",
      "[4]\tvalidation_0-rmse:2.29377\tvalidation_1-rmse:2.40912\n",
      "[5]\tvalidation_0-rmse:2.19923\tvalidation_1-rmse:2.34766\n",
      "[6]\tvalidation_0-rmse:2.12039\tvalidation_1-rmse:2.29924\n",
      "[7]\tvalidation_0-rmse:2.05016\tvalidation_1-rmse:2.26442\n",
      "[8]\tvalidation_0-rmse:1.98784\tvalidation_1-rmse:2.22924\n",
      "[9]\tvalidation_0-rmse:1.93045\tvalidation_1-rmse:2.20782\n",
      "[10]\tvalidation_0-rmse:1.88333\tvalidation_1-rmse:2.17246\n",
      "[11]\tvalidation_0-rmse:1.84591\tvalidation_1-rmse:2.14813\n",
      "[12]\tvalidation_0-rmse:1.80922\tvalidation_1-rmse:2.13422\n",
      "[13]\tvalidation_0-rmse:1.78093\tvalidation_1-rmse:2.11782\n",
      "[14]\tvalidation_0-rmse:1.75535\tvalidation_1-rmse:2.10929\n",
      "[15]\tvalidation_0-rmse:1.73017\tvalidation_1-rmse:2.10030\n",
      "[16]\tvalidation_0-rmse:1.70717\tvalidation_1-rmse:2.09449\n",
      "[17]\tvalidation_0-rmse:1.69041\tvalidation_1-rmse:2.09001\n",
      "[18]\tvalidation_0-rmse:1.67605\tvalidation_1-rmse:2.08598\n",
      "[19]\tvalidation_0-rmse:1.65791\tvalidation_1-rmse:2.08135\n",
      "[20]\tvalidation_0-rmse:1.64360\tvalidation_1-rmse:2.07561\n",
      "[21]\tvalidation_0-rmse:1.62986\tvalidation_1-rmse:2.06874\n",
      "[22]\tvalidation_0-rmse:1.61722\tvalidation_1-rmse:2.06261\n",
      "[23]\tvalidation_0-rmse:1.60444\tvalidation_1-rmse:2.05585\n",
      "[24]\tvalidation_0-rmse:1.59360\tvalidation_1-rmse:2.05317\n",
      "[25]\tvalidation_0-rmse:1.58514\tvalidation_1-rmse:2.05145\n",
      "[26]\tvalidation_0-rmse:1.57753\tvalidation_1-rmse:2.04725\n",
      "[27]\tvalidation_0-rmse:1.57009\tvalidation_1-rmse:2.04663\n",
      "[28]\tvalidation_0-rmse:1.55955\tvalidation_1-rmse:2.04073\n",
      "[29]\tvalidation_0-rmse:1.55074\tvalidation_1-rmse:2.03909\n",
      "[30]\tvalidation_0-rmse:1.54494\tvalidation_1-rmse:2.03605\n",
      "[31]\tvalidation_0-rmse:1.53855\tvalidation_1-rmse:2.03248\n",
      "[32]\tvalidation_0-rmse:1.52878\tvalidation_1-rmse:2.02571\n",
      "[33]\tvalidation_0-rmse:1.52153\tvalidation_1-rmse:2.02459\n",
      "[34]\tvalidation_0-rmse:1.51581\tvalidation_1-rmse:2.02248\n",
      "[35]\tvalidation_0-rmse:1.50954\tvalidation_1-rmse:2.02092\n",
      "[36]\tvalidation_0-rmse:1.50285\tvalidation_1-rmse:2.02084\n",
      "[37]\tvalidation_0-rmse:1.49939\tvalidation_1-rmse:2.01936\n",
      "[38]\tvalidation_0-rmse:1.49073\tvalidation_1-rmse:2.01895\n",
      "[39]\tvalidation_0-rmse:1.48698\tvalidation_1-rmse:2.01707\n",
      "[40]\tvalidation_0-rmse:1.48081\tvalidation_1-rmse:2.00911\n",
      "[41]\tvalidation_0-rmse:1.47582\tvalidation_1-rmse:2.00763\n",
      "[42]\tvalidation_0-rmse:1.47140\tvalidation_1-rmse:2.00718\n",
      "[43]\tvalidation_0-rmse:1.46629\tvalidation_1-rmse:2.00710\n",
      "[44]\tvalidation_0-rmse:1.46300\tvalidation_1-rmse:2.00636\n",
      "[45]\tvalidation_0-rmse:1.45972\tvalidation_1-rmse:2.00600\n",
      "[46]\tvalidation_0-rmse:1.45680\tvalidation_1-rmse:2.00572\n",
      "[47]\tvalidation_0-rmse:1.44955\tvalidation_1-rmse:2.00550\n",
      "[48]\tvalidation_0-rmse:1.44500\tvalidation_1-rmse:2.00467\n",
      "[49]\tvalidation_0-rmse:1.44109\tvalidation_1-rmse:2.00351\n",
      "[50]\tvalidation_0-rmse:1.43531\tvalidation_1-rmse:2.00308\n",
      "[51]\tvalidation_0-rmse:1.43280\tvalidation_1-rmse:2.00405\n",
      "[52]\tvalidation_0-rmse:1.43144\tvalidation_1-rmse:2.00437\n",
      "[53]\tvalidation_0-rmse:1.42823\tvalidation_1-rmse:2.00391\n",
      "[54]\tvalidation_0-rmse:1.42527\tvalidation_1-rmse:2.00531\n",
      "[55]\tvalidation_0-rmse:1.42328\tvalidation_1-rmse:2.00524\n",
      "[56]\tvalidation_0-rmse:1.42104\tvalidation_1-rmse:2.00507\n",
      "[57]\tvalidation_0-rmse:1.41750\tvalidation_1-rmse:2.00435\n",
      "[58]\tvalidation_0-rmse:1.41277\tvalidation_1-rmse:2.00418\n",
      "[59]\tvalidation_0-rmse:1.40951\tvalidation_1-rmse:2.00456\n",
      "[60]\tvalidation_0-rmse:1.40817\tvalidation_1-rmse:2.00450\n",
      "Stopping. Best iteration:\n",
      "[50]\tvalidation_0-rmse:1.43531\tvalidation_1-rmse:2.00308\n",
      "\n"
     ]
    },
    {
     "data": {
      "text/plain": [
       "95.0045599937439"
      ]
     },
     "execution_count": 74,
     "metadata": {},
     "output_type": "execute_result"
    }
   ],
   "source": [
    "ts = time.time()\n",
    "import sklearn\n",
    "model = XGBRegressor(\n",
    "    max_depth=12,\n",
    "    n_estimators=1000,\n",
    "    min_child_weight=0.5, \n",
    "    colsample_bytree=0.8, \n",
    "    subsample=0.8, \n",
    "    eta=0.1,    \n",
    "    seed=42)\n",
    "\n",
    "model.fit(\n",
    "    xtrain, \n",
    "    ytrain, \n",
    "    eval_metric=\"rmse\", \n",
    "    eval_set=[(xtrain, ytrain), (xvalid, yvalid)], \n",
    "    verbose=True, \n",
    "    early_stopping_rounds = 10)\n",
    "\n",
    "time.time() - ts"
   ]
  },
  {
   "cell_type": "code",
   "execution_count": 75,
   "metadata": {},
   "outputs": [
    {
     "data": {
      "text/plain": [
       "<matplotlib.axes._subplots.AxesSubplot at 0x1a3c7cd3908>"
      ]
     },
     "execution_count": 75,
     "metadata": {},
     "output_type": "execute_result"
    },
    {
     "data": {
      "image/png": "[encoded data removed]",
      "text/plain": [
       "<Figure size 720x1008 with 1 Axes>"
      ]
     },
     "metadata": {
      "needs_background": "light"
     },
     "output_type": "display_data"
    }
   ],
   "source": [
    "def plot_features(booster, figsize):    \n",
    "    fig, ax = plt.subplots(1,1,figsize=figsize)\n",
    "    return plot_importance(booster=booster, ax=ax)\n",
    "plot_features(model, (10,14))"
   ]
  },
  {
   "cell_type": "code",
   "execution_count": 76,
   "metadata": {},
   "outputs": [],
   "source": [
    "ypred = model.predict(xtest)"
   ]
  },
  {
   "cell_type": "code",
   "execution_count": 77,
   "metadata": {},
   "outputs": [
    {
     "data": {
      "text/plain": [
       "array([1.0228751, 0.9711656, 1.0630636, ..., 0.9609761, 2.1035473,\n",
       "       1.4725301], dtype=float32)"
      ]
     },
     "execution_count": 77,
     "metadata": {},
     "output_type": "execute_result"
    }
   ],
   "source": [
    "ypred"
   ]
  },
  {
   "cell_type": "code",
   "execution_count": 78,
   "metadata": {},
   "outputs": [],
   "source": [
    "## Preparing submission file\n",
    "test = pd.read_csv('test.csv')"
   ]
  },
  {
   "cell_type": "code",
   "execution_count": 79,
   "metadata": {},
   "outputs": [
    {
     "name": "stderr",
     "output_type": "stream",
     "text": [
      "C:\\Users\\Tanweer\\Miniconda3\\lib\\site-packages\\ipykernel_launcher.py:2: SettingWithCopyWarning: \n",
      "A value is trying to be set on a copy of a slice from a DataFrame.\n",
      "Try using .loc[row_indexer,col_indexer] = value instead\n",
      "\n",
      "See the caveats in the documentation: https://pandas.pydata.org/pandas-docs/stable/user_guide/indexing.html#returning-a-view-versus-a-copy\n",
      "  \n"
     ]
    }
   ],
   "source": [
    "temp = xtest[['shop_id','item_id']]\n",
    "temp['item_cnt_month'] = ypred"
   ]
  },
  {
   "cell_type": "code",
   "execution_count": 80,
   "metadata": {},
   "outputs": [],
   "source": [
    "submission = pd.concat((remainder[['shop_id','item_id','item_cnt_month']],temp))"
   ]
  },
  {
   "cell_type": "code",
   "execution_count": 81,
   "metadata": {},
   "outputs": [],
   "source": [
    "exp = pd.merge(test,submission,on=['shop_id','item_id'], how= 'left')\n",
    "exp = exp.drop(columns=['shop_id','item_id'], axis = 1)\n",
    "exp.item_cnt_month = exp.item_cnt_month.clip(0,20)"
   ]
  },
  {
   "cell_type": "code",
   "execution_count": 82,
   "metadata": {},
   "outputs": [],
   "source": [
    "exp.to_csv('submission_xgboost1.csv', index = False)"
   ]
  },
  {
   "cell_type": "code",
   "execution_count": 83,
   "metadata": {},
   "outputs": [
    {
     "data": {
      "text/plain": [
       "(1369259, 46)"
      ]
     },
     "execution_count": 83,
     "metadata": {},
     "output_type": "execute_result"
    }
   ],
   "source": [
    "train.shape"
   ]
  },
  {
   "cell_type": "code",
   "execution_count": null,
   "metadata": {},
   "outputs": [],
   "source": []
  }
 ],
 "metadata": {
  "kernelspec": {
   "display_name": "Python 3",
   "language": "python",
   "name": "python3"
  },
  "language_info": {
   "codemirror_mode": {
    "name": "ipython",
    "version": 3
   },
   "file_extension": ".py",
   "mimetype": "text/x-python",
   "name": "python",
   "nbconvert_exporter": "python",
   "pygments_lexer": "ipython3",
   "version": "3.7.3"
  }
 },
 "nbformat": 4,
 "nbformat_minor": 2
}
